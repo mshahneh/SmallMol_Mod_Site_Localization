{
 "cells": [
  {
   "cell_type": "code",
   "execution_count": 1,
   "metadata": {},
   "outputs": [],
   "source": [
    "\n",
    "from urllib.request import urlopen\n",
    "from IPython.display import SVG\n",
    "import matplotlib.pyplot as plt\n",
    "from rdkit import Chem\n",
    "import pickle\n",
    "from tqdm import tqdm"
   ]
  },
  {
   "cell_type": "code",
   "execution_count": 2,
   "metadata": {},
   "outputs": [],
   "source": [
    "import os\n",
    "import sys\n",
    "module_path = os.path.abspath(os.path.join('..'))\n",
    "if module_path not in sys.path:\n",
    "    sys.path.append(module_path)"
   ]
  },
  {
   "cell_type": "code",
   "execution_count": 3,
   "metadata": {},
   "outputs": [],
   "source": [
    "import visualizer as visualizer\n",
    "import utils as utils\n",
    "import fragmentation_py as fragmentation_py\n",
    "import library_downloader as library_downloader\n",
    "import SiteLocator as modSite"
   ]
  },
  {
   "cell_type": "code",
   "execution_count": 4,
   "metadata": {},
   "outputs": [],
   "source": [
    "# library = \"GNPS-LIBRARY\"\n",
    "library = \"GNPS-MSMLS\"\n",
    "# library = \"GNPS-NIH-NATURALPRODUCTSLIBRARY_ROUND2_POSITIVE\"\n",
    "\n",
    "# if directory does not exist, create it\n",
    "if not os.path.exists( os.path.join(\"../data/libraries\",library)):\n",
    "    url = \"https://gnps-external.ucsd.edu/gnpslibrary/\" + library + \".json\"\n",
    "    location = \"../data/libraries/\" + library + \"/\"\n",
    "    library_downloader.download(url, location, 0.5, 0.1)\n",
    "\n",
    "# load data_dict_filtered\n",
    "with open(os.path.join(\"../data/libraries\",library,\"data_dict_filtered.pkl\"), \"rb\") as f:\n",
    "    data_dict_filtered = pickle.load(f)\n",
    "\n",
    "# load matches\n",
    "with open(os.path.join(\"../data/libraries\",library,\"matches.pkl\"), \"rb\") as f:\n",
    "    matches = pickle.load(f)\n",
    "\n",
    "# load cachedStructures_filtered\n",
    "with open(os.path.join(\"../data/libraries\",library,\"cachedStructures.pkl\"), \"rb\") as f:\n",
    "    cachedStructures_filtered = pickle.load(f)\n"
   ]
  },
  {
   "cell_type": "code",
   "execution_count": 9,
   "metadata": {},
   "outputs": [
    {
     "name": "stdout",
     "output_type": "stream",
     "text": [
      "C1=C(C=C(C=C1N)O)C(=O)O\n",
      "OCC1=CC=CC=C1\n"
     ]
    }
   ],
   "source": [
    "x = matches[3].pop()\n",
    "print(data_dict_filtered[x[0]][\"Smiles\"])\n",
    "print(data_dict_filtered[x[1]][\"Smiles\"])"
   ]
  },
  {
   "cell_type": "code",
   "execution_count": 6,
   "metadata": {},
   "outputs": [
    {
     "ename": "NameError",
     "evalue": "name 'x' is not defined",
     "output_type": "error",
     "traceback": [
      "\u001b[0;31m---------------------------------------------------------------------------\u001b[0m",
      "\u001b[0;31mNameError\u001b[0m                                 Traceback (most recent call last)",
      "Cell \u001b[0;32mIn[6], line 1\u001b[0m\n\u001b[0;32m----> 1\u001b[0m \u001b[39mprint\u001b[39m(data_dict_filtered[x[\u001b[39m0\u001b[39m]][\u001b[39m\"\u001b[39m\u001b[39mSmiles\u001b[39m\u001b[39m\"\u001b[39m])\n",
      "\u001b[0;31mNameError\u001b[0m: name 'x' is not defined"
     ]
    }
   ],
   "source": []
  },
  {
   "attachments": {},
   "cell_type": "markdown",
   "metadata": {},
   "source": [
    "find line"
   ]
  },
  {
   "cell_type": "code",
   "execution_count": 73,
   "metadata": {},
   "outputs": [
    {
     "name": "stderr",
     "output_type": "stream",
     "text": [
      "100%|██████████| 544/544 [04:37<00:00,  1.96it/s]"
     ]
    },
    {
     "name": "stdout",
     "output_type": "stream",
     "text": [
      "10\n"
     ]
    },
    {
     "name": "stderr",
     "output_type": "stream",
     "text": [
      "\n"
     ]
    }
   ],
   "source": [
    "count = 0\n",
    "ids = []\n",
    "for match in tqdm(matches[1]):\n",
    "    if len(ids) > 10:\n",
    "        break\n",
    "    for match2 in matches[1]:\n",
    "        if match[1] == match2[0]:\n",
    "            try:\n",
    "                mol = Chem.MolFromSmiles(data_dict_filtered[match[1]][\"Smiles\"])\n",
    "                substruct = Chem.MolFromSmiles(data_dict_filtered[match2[1]][\"Smiles\"])\n",
    "                site = modSite.SiteLocator(utils.generate_usi(match2[1], library), utils.generate_usi(match[1], library), substruct)\n",
    "                if len(site.shifted) < 5:\n",
    "                    continue\n",
    "                modificattionSite = list(utils.calculateModificationSites(mol, substruct, False))[0]\n",
    "                if site.accuracy_score(modificattionSite) < 0.8:\n",
    "                    continue\n",
    "                \n",
    "                \n",
    "                mol = Chem.MolFromSmiles(data_dict_filtered[match[0]][\"Smiles\"])\n",
    "                substruct = Chem.MolFromSmiles(data_dict_filtered[match[1]][\"Smiles\"])\n",
    "                site = modSite.SiteLocator(utils.generate_usi(match[1], library), utils.generate_usi(match[0], library), substruct)\n",
    "                if len(site.shifted) < 5:\n",
    "                    continue\n",
    "                modificattionSite = list(utils.calculateModificationSites(mol, substruct, False))[0]\n",
    "                if site.accuracy_score(modificattionSite) > 0.65:\n",
    "                    continue\n",
    "                \n",
    "                ids.append([match2[1], match[1], match[0]])\n",
    "                count += 1\n",
    "                break\n",
    "            except:\n",
    "                pass\n",
    "\n",
    "print (count)"
   ]
  },
  {
   "cell_type": "code",
   "execution_count": 80,
   "metadata": {},
   "outputs": [
    {
     "name": "stdout",
     "output_type": "stream",
     "text": [
      "10\n",
      "['CCMSLIB00005463927', 'CCMSLIB00005463968', 'CCMSLIB00005464192']\n",
      "mzspec:GNPS:GNPS-MSMLS:accession:CCMSLIB00005463927\n",
      "NCCCCC(O)=O\n",
      "mzspec:GNPS:GNPS-MSMLS:accession:CCMSLIB00005463968\n",
      "NCCC[C@H](N)C(O)=O\n",
      "mzspec:GNPS:GNPS-MSMLS:accession:CCMSLIB00005464192\n",
      "N[C@@H](CCCN=C(N)N)C(O)=O\n"
     ]
    }
   ],
   "source": [
    "print (len(ids))\n",
    "i = 6\n",
    "print(ids[i])\n",
    "print (utils.generate_usi(ids[i][0], library))\n",
    "print (data_dict_filtered[ids[i][0]][\"Smiles\"])\n",
    "print (utils.generate_usi(ids[i][1], library))\n",
    "print (data_dict_filtered[ids[i][1]][\"Smiles\"])\n",
    "print (utils.generate_usi(ids[i][2], library))\n",
    "print (data_dict_filtered[ids[i][2]][\"Smiles\"])"
   ]
  },
  {
   "cell_type": "code",
   "execution_count": 16,
   "metadata": {},
   "outputs": [
    {
     "data": {
      "text/plain": [
       "array([[0., 1., 2., 3., 4., 4., 5., 3., 4., 2., 3.],\n",
       "       [1., 0., 1., 2., 3., 3., 4., 2., 3., 1., 2.],\n",
       "       [2., 1., 0., 1., 2., 2., 3., 3., 4., 2., 3.],\n",
       "       [3., 2., 1., 0., 1., 1., 2., 2., 3., 3., 4.],\n",
       "       [4., 3., 2., 1., 0., 2., 3., 3., 4., 4., 5.],\n",
       "       [4., 3., 2., 1., 2., 0., 1., 1., 2., 2., 3.],\n",
       "       [5., 4., 3., 2., 3., 1., 0., 2., 3., 3., 4.],\n",
       "       [3., 2., 3., 2., 3., 1., 2., 0., 1., 1., 2.],\n",
       "       [4., 3., 4., 3., 4., 2., 3., 1., 0., 2., 3.],\n",
       "       [2., 1., 2., 3., 4., 2., 3., 1., 2., 0., 1.],\n",
       "       [3., 2., 3., 4., 5., 3., 4., 2., 3., 1., 0.]])"
      ]
     },
     "execution_count": 16,
     "metadata": {},
     "output_type": "execute_result"
    }
   ],
   "source": [
    "site = modSite.SiteLocator(\"mzspec:GNPS:GNPS-MSMLS:accession:CCMSLIB00005464222\", \"mzspec:GNPS:GNPS-MSMLS:accession:CCMSLIB00005463642\", \"C[C@@H]1OC(O)[C@H](O)[C@H](O)[C@H]1O\")\n",
    "site.distances"
   ]
  },
  {
   "cell_type": "code",
   "execution_count": 17,
   "metadata": {},
   "outputs": [],
   "source": [
    "mol1 = Chem.MolFromSmiles(\"C[C@@H]1OC(O)[C@H](O)[C@H](O)[C@H]1O\")\n",
    "modifLoc = list(utils.calculateModificationSites(Chem.MolFromSmiles(\"OC[C@H]1O[C@H](O)[C@H](O)[C@@H](O)[C@H]1O\"), mol1, False))"
   ]
  },
  {
   "cell_type": "code",
   "execution_count": 18,
   "metadata": {},
   "outputs": [
    {
     "data": {
      "text/plain": [
       "[0]"
      ]
     },
     "execution_count": 18,
     "metadata": {},
     "output_type": "execute_result"
    }
   ],
   "source": [
    "modifLoc"
   ]
  },
  {
   "cell_type": "code",
   "execution_count": 21,
   "metadata": {},
   "outputs": [
    {
     "data": {
      "text/plain": [
       "0.6"
      ]
     },
     "execution_count": 21,
     "metadata": {},
     "output_type": "execute_result"
    }
   ],
   "source": [
    "accuracy_score = site.accuracy_score(modifLoc[0], peak_presence_only=False, combine=False, return_all=False)\n",
    "accuracy_score"
   ]
  },
  {
   "cell_type": "code",
   "execution_count": 23,
   "metadata": {},
   "outputs": [
    {
     "data": {
      "text/plain": [
       "True"
      ]
     },
     "execution_count": 23,
     "metadata": {},
     "output_type": "execute_result"
    }
   ],
   "source": [
    "site.accuracy_score(modifLoc[0]) < 0.8"
   ]
  },
  {
   "cell_type": "code",
   "execution_count": 60,
   "metadata": {},
   "outputs": [
    {
     "name": "stdout",
     "output_type": "stream",
     "text": [
      "1\n",
      "0.8\n",
      "CCMSLIB00005464222 CCMSLIB00005463642 CCMSLIB00005464431\n"
     ]
    }
   ],
   "source": [
    "match = [\"CCMSLIB00005464431\",\"CCMSLIB00005463642\"]\n",
    "match2 = [\"CCMSLIB00005463642\", \"CCMSLIB00005464222\"]\n",
    "mol = Chem.MolFromSmiles(data_dict_filtered[match[1]][\"Smiles\"])\n",
    "substruct = Chem.MolFromSmiles(data_dict_filtered[match2[1]][\"Smiles\"])\n",
    "site = modSite.SiteLocator(utils.generate_usi(match2[1], library), utils.generate_usi(match[1], library), substruct)\n",
    "if len(site.shifted) < 3:\n",
    "    print(\"continue\")\n",
    "modificattionSite = list(utils.calculateModificationSites(mol, substruct))[0]\n",
    "if site.accuracy_score(modificattionSite) < 0.8:\n",
    "    print(\"continue\")\n",
    "else:\n",
    "    print(modificattionSite)\n",
    "    print (site.accuracy_score(modificattionSite))\n",
    "    print (match2[1], match[1], match[0])"
   ]
  },
  {
   "cell_type": "code",
   "execution_count": 53,
   "metadata": {},
   "outputs": [
    {
     "data": {
      "text/plain": [
       "{'score': 0.6, 'count': 1, 'isMax': 0, 'closestMaxAtomDistance': 0.0}"
      ]
     },
     "execution_count": 53,
     "metadata": {},
     "output_type": "execute_result"
    }
   ],
   "source": [
    "usi1 = \"mzspec:GNPS:GNPS-MSMLS:accession:CCMSLIB00005464222\"\n",
    "usi2 = \"mzspec:GNPS:GNPS-MSMLS:accession:CCMSLIB00005463642\"\n",
    "smiles2 = \"OC[C@H]1O[C@H](O)[C@H](O)[C@@H](O)[C@H]1O\"\n",
    "mol1 = Chem.MolFromSmiles(\"C[C@@H]1OC(O)[C@H](O)[C@H](O)[C@H]1O\")\n",
    "siteLocator = modSite.SiteLocator(usi1, usi2, mol1)\n",
    "modifLoc = list(utils.calculateModificationSites(Chem.MolFromSmiles(smiles2), mol1, False))\n",
    "accuracy_score = siteLocator.accuracy_score(modifLoc[0], peak_presence_only=False, combine=False, return_all=True)\n",
    "accuracy_score"
   ]
  },
  {
   "cell_type": "code",
   "execution_count": 59,
   "metadata": {},
   "outputs": [
    {
     "name": "stdout",
     "output_type": "stream",
     "text": [
      "[0]\n"
     ]
    },
    {
     "data": {
      "image/png": "[encoded data removed]",
      "text/plain": [
       "<rdkit.Chem.rdchem.Mol at 0x7f6dc94d3900>"
      ]
     },
     "execution_count": 59,
     "metadata": {},
     "output_type": "execute_result"
    }
   ],
   "source": [
    "mol1 = Chem.MolFromSmiles(\"C[C@@H]1OC(O)[C@H](O)[C@H](O)[C@H]1O\")\n",
    "print(modifLoc)\n",
    "mol1"
   ]
  },
  {
   "cell_type": "code",
   "execution_count": 63,
   "metadata": {},
   "outputs": [
    {
     "data": {
      "text/plain": [
       "0"
      ]
     },
     "execution_count": 63,
     "metadata": {},
     "output_type": "execute_result"
    }
   ],
   "source": [
    "list(utils.calculateModificationSites(mol, substruct, False))[0]"
   ]
  },
  {
   "cell_type": "code",
   "execution_count": 64,
   "metadata": {},
   "outputs": [],
   "source": [
    "modifLoc = list(utils.calculateModificationSites(Chem.MolFromSmiles(smiles2), mol1, False))"
   ]
  },
  {
   "cell_type": "code",
   "execution_count": 81,
   "metadata": {},
   "outputs": [
    {
     "name": "stderr",
     "output_type": "stream",
     "text": [
      "  5%|▍         | 27/544 [00:22<05:21,  1.61it/s]"
     ]
    }
   ],
   "source": [
    "count = 0\n",
    "ids2 = []\n",
    "for match in tqdm(matches[1]):\n",
    "    if len(ids2) > 10:\n",
    "        break\n",
    "    for match2 in matches[1]:\n",
    "        if match[1] == match2[1] and match[0] != match2[0]:\n",
    "            try:\n",
    "                mol = Chem.MolFromSmiles(data_dict_filtered[match[0]][\"Smiles\"])\n",
    "                substruct = Chem.MolFromSmiles(data_dict_filtered[match[1]][\"Smiles\"])\n",
    "                site = modSite.SiteLocator(utils.generate_usi(match[1], library), utils.generate_usi(match[0], library), substruct)\n",
    "                if len(site.shifted) < 5:\n",
    "                    continue\n",
    "                modificattionSite = list(utils.calculateModificationSites(mol, substruct, False))[0]\n",
    "                if site.accuracy_score(modificattionSite) < 0.8:\n",
    "                    continue\n",
    "                \n",
    "                \n",
    "                mol = Chem.MolFromSmiles(data_dict_filtered[match2[0]][\"Smiles\"])\n",
    "                substruct = Chem.MolFromSmiles(data_dict_filtered[match2[1]][\"Smiles\"])\n",
    "                site = modSite.SiteLocator(utils.generate_usi(match2[1], library), utils.generate_usi(match2[0], library), substruct)\n",
    "                if len(site.shifted) < 5:\n",
    "                    continue\n",
    "                modificattionSite = list(utils.calculateModificationSites(mol, substruct, False))[0]\n",
    "                if site.accuracy_score(modificattionSite) > 0.65:\n",
    "                    continue\n",
    "                \n",
    "                ids2.append([match2[1], match[1], match[0]])\n",
    "                count += 1\n",
    "                break\n",
    "            except:\n",
    "                pass\n",
    "\n",
    "print (count)"
   ]
  },
  {
   "cell_type": "code",
   "execution_count": null,
   "metadata": {},
   "outputs": [],
   "source": [
    "print (len(ids2))\n",
    "i = 0\n",
    "print(ids2[i])\n",
    "print (utils.generate_usi(ids2[i][0], library))\n",
    "print (data_dict_filtered[ids2[i][0]][\"Smiles\"])\n",
    "print (utils.generate_usi(ids2[i][1], library))\n",
    "print (data_dict_filtered[ids2[i][1]][\"Smiles\"])\n",
    "print (utils.generate_usi(ids2[i][2], library))\n",
    "print (data_dict_filtered[ids2[i][2]][\"Smiles\"])"
   ]
  }
 ],
 "metadata": {
  "kernelspec": {
   "display_name": "Python 3",
   "language": "python",
   "name": "python3"
  },
  "language_info": {
   "codemirror_mode": {
    "name": "ipython",
    "version": 3
   },
   "file_extension": ".py",
   "mimetype": "text/x-python",
   "name": "python",
   "nbconvert_exporter": "python",
   "pygments_lexer": "ipython3",
   "version": "3.9.15"
  },
  "orig_nbformat": 4
 },
 "nbformat": 4,
 "nbformat_minor": 2
}
