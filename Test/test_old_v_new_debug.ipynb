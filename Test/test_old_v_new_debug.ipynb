{
 "cells": [
  {
   "cell_type": "code",
   "execution_count": 1,
   "metadata": {},
   "outputs": [],
   "source": [
    "import sys\n",
    "sys.path.append('..')\n",
    "import unittest\n",
    "import os\n",
    "import numpy as np\n",
    "import pickle\n",
    "from Compound_n import Compound\n",
    "from ModificationSiteLocator import ModificationSiteLocator\n",
    "from SiteLocator import SiteLocator\n",
    "import utils\n",
    "\n",
    "# library = \"GNPS-LIBRARY\"\n",
    "library = \"GNPS-MSMLS\"\n",
    "# library = \"GNPS-NIH-NATURALPRODUCTSLIBRARY_ROUND2_POSITIVE\"\n",
    "\n",
    "# load data_dict_filtered\n",
    "with open(os.path.join(\"../data/libraries\",library,\"data_dict_filtered.pkl\"), \"rb\") as f:\n",
    "    data_dict_filtered = pickle.load(f)\n",
    "\n",
    "# load matches\n",
    "with open(os.path.join(\"../data/libraries\",library,\"matches.pkl\"), \"rb\") as f:\n",
    "    matches = pickle.load(f)\n",
    "\n",
    "# load cachedStructures_filtered\n",
    "with open(os.path.join(\"../data/libraries\",library,\"cachedStructures.pkl\"), \"rb\") as f:\n",
    "    cachedStructures_filtered = pickle.load(f)\n",
    "\n",
    "\n",
    "\n",
    "args = {\n",
    "    'filter_peaks_method':\"top_k\",\n",
    "      'filter_peaks_variable':60,\n",
    "        'mz_tolerance':0.05,\n",
    "        'mz_tolerance':0.05\n",
    "}\n",
    "peak_presence_only = False\n",
    "consider_intensity = False\n",
    "combine = False"
   ]
  },
  {
   "cell_type": "code",
   "execution_count": 11,
   "metadata": {},
   "outputs": [],
   "source": [
    "m0 = \"CCMSLIB00005464384\"\n",
    "m1 = \"CCMSLIB00005464404\""
   ]
  },
  {
   "cell_type": "code",
   "execution_count": 12,
   "metadata": {},
   "outputs": [
    {
     "name": "stdout",
     "output_type": "stream",
     "text": [
      "here?\n",
      "here?\n"
     ]
    }
   ],
   "source": [
    "main_compound = Compound(data_dict_filtered[m0], cachedStructures_filtered[m0], args)\n",
    "modified_compound = Compound(data_dict_filtered[m1], cachedStructures_filtered[m1], args)\n",
    "site_locator = ModificationSiteLocator(main_compound, modified_compound, args)\n",
    "new_scores = site_locator.generate_probabilities(shifted_only=(not combine), PPO=peak_presence_only, CI=consider_intensity)\n",
    "modification_site = utils.calculateModificationSites(modified_compound.structure, main_compound.structure, False)[0]\n",
    "\n",
    "molMol = cachedStructures_filtered[m0]\n",
    "modifMol = cachedStructures_filtered[m1]\n",
    "molSmiles = data_dict_filtered[m0]['Smiles']\n",
    "modifSmiles = data_dict_filtered[m1]['Smiles']\n",
    "site = SiteLocator(data_dict_filtered[m0], data_dict_filtered[m1], molSmiles, args)\n",
    "\n",
    "scores_unshifted, scores_shifted = site.calculate_score(peak_presence_only, consider_intensity)\n",
    "old_scores = site.distance_score(scores_unshifted, scores_shifted, combine)\n",
    "old_scores = old_scores - np.min(old_scores)\n",
    "if np.sum(old_scores) != 0:\n",
    "    old_scores = old_scores / np.sum(old_scores)\n",
    "else:\n",
    "    old_scores = np.zeros(len(old_scores))"
   ]
  },
  {
   "cell_type": "code",
   "execution_count": 4,
   "metadata": {},
   "outputs": [
    {
     "name": "stdout",
     "output_type": "stream",
     "text": [
      "60\n",
      "60\n"
     ]
    }
   ],
   "source": [
    "print(len(main_compound.peaks))\n",
    "print(len(site.molPeaks))"
   ]
  },
  {
   "cell_type": "code",
   "execution_count": 5,
   "metadata": {},
   "outputs": [
    {
     "name": "stdout",
     "output_type": "stream",
     "text": [
      "[(24, 18), (50, 51), (46, 44), (36, 25), (16, 12), (42, 33), (28, 21), (44, 41), (23, 17), (56, 55), (26, 19), (51, 50), (32, 22), (43, 34), (35, 23), (25, 20), (37, 28)]\n",
      "[(24, 18), (50, 51), (46, 44), (36, 25), (16, 12), (42, 33), (28, 21), (44, 41), (23, 17), (56, 55), (26, 19), (51, 50), (32, 22), (43, 34), (35, 23), (25, 20), (37, 28)]\n"
     ]
    }
   ],
   "source": [
    "print(site.shifted)\n",
    "print( site_locator.shifted)"
   ]
  },
  {
   "cell_type": "code",
   "execution_count": 6,
   "metadata": {},
   "outputs": [
    {
     "data": {
      "text/plain": [
       "array([ 9., 14., 14., 14.,  9.,  7.,  7., 12.])"
      ]
     },
     "execution_count": 6,
     "metadata": {},
     "output_type": "execute_result"
    }
   ],
   "source": [
    "scores_unshifted"
   ]
  },
  {
   "cell_type": "code",
   "execution_count": 7,
   "metadata": {},
   "outputs": [
    {
     "data": {
      "text/plain": [
       "array([22., 54., 50., 59., 46., 37., 36., 44.])"
      ]
     },
     "execution_count": 7,
     "metadata": {},
     "output_type": "execute_result"
    }
   ],
   "source": [
    "scores_shifted"
   ]
  },
  {
   "cell_type": "code",
   "execution_count": 8,
   "metadata": {},
   "outputs": [
    {
     "data": {
      "text/plain": [
       "[22, 54, 50, 59, 46, 37, 36, 44]"
      ]
     },
     "execution_count": 8,
     "metadata": {},
     "output_type": "execute_result"
    }
   ],
   "source": [
    "s_peakids = [_[0] for _ in site_locator.shifted]\n",
    "positive_contributions = site_locator.calculate_contributions(s_peakids, peak_presence_only, consider_intensity)\n",
    "positive_contributions"
   ]
  },
  {
   "cell_type": "code",
   "execution_count": 10,
   "metadata": {},
   "outputs": [
    {
     "data": {
      "text/plain": [
       "True"
      ]
     },
     "execution_count": 10,
     "metadata": {},
     "output_type": "execute_result"
    }
   ],
   "source": [
    "np.allclose(new_scores, old_scores)"
   ]
  }
 ],
 "metadata": {
  "kernelspec": {
   "display_name": "Python 3",
   "language": "python",
   "name": "python3"
  },
  "language_info": {
   "codemirror_mode": {
    "name": "ipython",
    "version": 3
   },
   "file_extension": ".py",
   "mimetype": "text/x-python",
   "name": "python",
   "nbconvert_exporter": "python",
   "pygments_lexer": "ipython3",
   "version": "3.9.15"
  },
  "orig_nbformat": 4
 },
 "nbformat": 4,
 "nbformat_minor": 2
}
