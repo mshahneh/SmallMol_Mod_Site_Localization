{
 "cells": [
  {
   "cell_type": "code",
   "execution_count": 1,
   "metadata": {},
   "outputs": [],
   "source": [
    "import sys\n",
    "sys.path.append('..')\n",
    "import unittest\n",
    "import os\n",
    "import numpy as np\n",
    "import pickle\n",
    "from Compound_n import Compound\n",
    "from ModificationSiteLocator import ModificationSiteLocator\n",
    "from SiteLocator import SiteLocator\n",
    "import utils\n",
    "\n",
    "# library = \"GNPS-LIBRARY\"\n",
    "library = \"GNPS-MSMLS\"\n",
    "# library = \"GNPS-NIH-NATURALPRODUCTSLIBRARY_ROUND2_POSITIVE\"\n",
    "\n",
    "# load data_dict_filtered\n",
    "with open(os.path.join(\"../data/libraries\",library,\"data_dict_filtered.pkl\"), \"rb\") as f:\n",
    "    data_dict_filtered = pickle.load(f)\n",
    "\n",
    "# load matches\n",
    "with open(os.path.join(\"../data/libraries\",library,\"matches.pkl\"), \"rb\") as f:\n",
    "    matches = pickle.load(f)\n",
    "\n",
    "# load cachedStructures_filtered\n",
    "with open(os.path.join(\"../data/libraries\",library,\"cachedStructures.pkl\"), \"rb\") as f:\n",
    "    cachedStructures_filtered = pickle.load(f)\n",
    "\n",
    "\n",
    "\n",
    "args = {\n",
    "    'filter_peaks_method':\"top_k\",\n",
    "      'filter_peaks_variable':60,\n",
    "        'mz_tolerance':0.05,\n",
    "        'mz_tolerance':0.05\n",
    "}\n",
    "peak_presence_only = False\n",
    "consider_intensity = False\n",
    "combine = False"
   ]
  },
  {
   "cell_type": "code",
   "execution_count": 11,
   "metadata": {},
   "outputs": [],
   "source": [
    "m0 = \"CCMSLIB00005464384\"\n",
    "m1 = \"CCMSLIB00005464404\""
   ]
  },
  {
   "cell_type": "code",
   "execution_count": 12,
   "metadata": {},
   "outputs": [
    {
     "name": "stdout",
     "output_type": "stream",
     "text": [
      "here?\n",
      "here?\n"
     ]
    }
   ],
   "source": [
    "main_compound = Compound(data_dict_filtered[m0], cachedStructures_filtered[m0], args)\n",
    "modified_compound = Compound(data_dict_filtered[m1], cachedStructures_filtered[m1], args)\n",
    "site_locator = ModificationSiteLocator(main_compound, modified_compound, args)\n",
    "new_scores = site_locator.generate_probabilities(shifted_only=(not combine), PPO=peak_presence_only, CI=consider_intensity)\n",
    "modification_site = utils.calculateModificationSites(modified_compound.structure, main_compound.structure, False)[0]\n",
    "\n",
    "molMol = cachedStructures_filtered[m0]\n",
    "modifMol = cachedStructures_filtered[m1]\n",
    "molSmiles = data_dict_filtered[m0]['Smiles']\n",
    "modifSmiles = data_dict_filtered[m1]['Smiles']\n",
    "site = SiteLocator(data_dict_filtered[m0], data_dict_filtered[m1], molSmiles, args)\n",
    "\n",
    "scores_unshifted, scores_shifted = site.calculate_score(peak_presence_only, consider_intensity)\n",
    "old_scores = site.distance_score(scores_unshifted, scores_shifted, combine)\n",
    "old_scores = old_scores - np.min(old_scores)\n",
    "if np.sum(old_scores) != 0:\n",
    "    old_scores = old_scores / np.sum(old_scores)\n",
    "else:\n",
    "    old_scores = np.zeros(len(old_scores))"
   ]
  },
  {
   "cell_type": "code",
   "execution_count": 4,
   "metadata": {},
   "outputs": [
    {
     "name": "stdout",
     "output_type": "stream",
     "text": [
      "60\n",
      "60\n"
     ]
    }
   ],
   "source": [
    "print(len(main_compound.peaks))\n",
    "print(len(site.molPeaks))"
   ]
  },
  {
   "cell_type": "code",
   "execution_count": 5,
   "metadata": {},
   "outputs": [
    {
     "name": "stdout",
     "output_type": "stream",
     "text": [
      "[(24, 18), (50, 51), (46, 44), (36, 25), (16, 12), (42, 33), (28, 21), (44, 41), (23, 17), (56, 55), (26, 19), (51, 50), (32, 22), (43, 34), (35, 23), (25, 20), (37, 28)]\n",
      "[(24, 18), (50, 51), (46, 44), (36, 25), (16, 12), (42, 33), (28, 21), (44, 41), (23, 17), (56, 55), (26, 19), (51, 50), (32, 22), (43, 34), (35, 23), (25, 20), (37, 28)]\n"
     ]
    }
   ],
   "source": [
    "print(site.shifted)\n",
    "print( site_locator.shifted)"
   ]
  },
  {
   "cell_type": "code",
   "execution_count": 6,
   "metadata": {},
   "outputs": [
    {
     "data": {
      "text/plain": [
       "array([ 9., 14., 14., 14.,  9.,  7.,  7., 12.])"
      ]
     },
     "execution_count": 6,
     "metadata": {},
     "output_type": "execute_result"
    }
   ],
   "source": [
    "scores_unshifted"
   ]
  },
  {
   "cell_type": "code",
   "execution_count": 7,
   "metadata": {},
   "outputs": [
    {
     "data": {
      "text/plain": [
       "array([22., 54., 50., 59., 46., 37., 36., 44.])"
      ]
     },
     "execution_count": 7,
     "metadata": {},
     "output_type": "execute_result"
    }
   ],
   "source": [
    "scores_shifted"
   ]
  },
  {
   "cell_type": "code",
   "execution_count": 8,
   "metadata": {},
   "outputs": [
    {
     "data": {
      "text/plain": [
       "[22, 54, 50, 59, 46, 37, 36, 44]"
      ]
     },
     "execution_count": 8,
     "metadata": {},
     "output_type": "execute_result"
    }
   ],
   "source": [
    "s_peakids = [_[0] for _ in site_locator.shifted]\n",
    "positive_contributions = site_locator.calculate_contributions(s_peakids, peak_presence_only, consider_intensity)\n",
    "positive_contributions"
   ]
  },
  {
   "cell_type": "code",
   "execution_count": 10,
   "metadata": {},
   "outputs": [
    {
     "data": {
      "text/plain": [
       "True"
      ]
     },
     "execution_count": 10,
     "metadata": {},
     "output_type": "execute_result"
    }
   ],
   "source": [
    "np.allclose(new_scores, old_scores)"
   ]
  },
  {
   "cell_type": "code",
   "execution_count": 123,
   "metadata": {},
   "outputs": [
    {
     "name": "stdout",
     "output_type": "stream",
     "text": [
      "<svg width=\"1000\" height=\"100\" xmlns=\"http://www.w3.org/2000/svg\"><rect x=\"1000.0\" y=\"0\" width=\"10.0\" height=\"100\" fill=\"rgb(255.0, 0, 0.0)\"/><rect x=\"990.0\" y=\"0\" width=\"10.0\" height=\"100\" fill=\"rgb(252.45, 0, 2.5500000000000025)\"/><rect x=\"980.0\" y=\"0\" width=\"10.0\" height=\"100\" fill=\"rgb(249.9, 0, 5.100000000000005)\"/><rect x=\"970.0\" y=\"0\" width=\"10.0\" height=\"100\" fill=\"rgb(247.35, 0, 7.650000000000007)\"/><rect x=\"960.0\" y=\"0\" width=\"10.0\" height=\"100\" fill=\"rgb(244.79999999999998, 0, 10.20000000000001)\"/><rect x=\"950.0\" y=\"0\" width=\"10.0\" height=\"100\" fill=\"rgb(242.25, 0, 12.75000000000001)\"/><rect x=\"940.0\" y=\"0\" width=\"10.0\" height=\"100\" fill=\"rgb(239.7, 0, 15.300000000000013)\"/><rect x=\"930.0\" y=\"0\" width=\"10.0\" height=\"100\" fill=\"rgb(237.15, 0, 17.849999999999987)\"/><rect x=\"920.0\" y=\"0\" width=\"10.0\" height=\"100\" fill=\"rgb(234.60000000000002, 0, 20.39999999999999)\"/><rect x=\"910.0\" y=\"0\" width=\"10.0\" height=\"100\" fill=\"rgb(232.05, 0, 22.949999999999992)\"/><rect x=\"900.0\" y=\"0\" width=\"10.0\" height=\"100\" fill=\"rgb(229.5, 0, 25.499999999999993)\"/><rect x=\"890.0\" y=\"0\" width=\"10.0\" height=\"100\" fill=\"rgb(226.95000000000002, 0, 28.049999999999997)\"/><rect x=\"880.0\" y=\"0\" width=\"10.0\" height=\"100\" fill=\"rgb(224.4, 0, 30.599999999999998)\"/><rect x=\"870.0\" y=\"0\" width=\"10.0\" height=\"100\" fill=\"rgb(221.85, 0, 33.15)\"/><rect x=\"860.0\" y=\"0\" width=\"10.0\" height=\"100\" fill=\"rgb(219.29999999999998, 0, 35.7)\"/><rect x=\"850.0\" y=\"0\" width=\"10.0\" height=\"100\" fill=\"rgb(216.75, 0, 38.25000000000001)\"/><rect x=\"840.0\" y=\"0\" width=\"10.0\" height=\"100\" fill=\"rgb(214.2, 0, 40.80000000000001)\"/><rect x=\"830.0\" y=\"0\" width=\"10.0\" height=\"100\" fill=\"rgb(211.64999999999998, 0, 43.35000000000001)\"/><rect x=\"820.0\" y=\"0\" width=\"10.0\" height=\"100\" fill=\"rgb(209.1, 0, 45.90000000000001)\"/><rect x=\"810.0\" y=\"0\" width=\"10.0\" height=\"100\" fill=\"rgb(206.55, 0, 48.44999999999999)\"/><rect x=\"800.0\" y=\"0\" width=\"10.0\" height=\"100\" fill=\"rgb(204.0, 0, 50.999999999999986)\"/><rect x=\"790.0\" y=\"0\" width=\"10.0\" height=\"100\" fill=\"rgb(201.45000000000002, 0, 53.54999999999999)\"/><rect x=\"780.0\" y=\"0\" width=\"10.0\" height=\"100\" fill=\"rgb(198.9, 0, 56.099999999999994)\"/><rect x=\"770.0\" y=\"0\" width=\"10.0\" height=\"100\" fill=\"rgb(196.35, 0, 58.65)\"/><rect x=\"760.0\" y=\"0\" width=\"10.0\" height=\"100\" fill=\"rgb(193.8, 0, 61.199999999999996)\"/><rect x=\"750.0\" y=\"0\" width=\"10.0\" height=\"100\" fill=\"rgb(191.25, 0, 63.75)\"/><rect x=\"740.0\" y=\"0\" width=\"10.0\" height=\"100\" fill=\"rgb(188.7, 0, 66.3)\"/><rect x=\"730.0\" y=\"0\" width=\"10.0\" height=\"100\" fill=\"rgb(186.15, 0, 68.85000000000001)\"/><rect x=\"720.0\" y=\"0\" width=\"10.0\" height=\"100\" fill=\"rgb(183.6, 0, 71.4)\"/><rect x=\"710.0\" y=\"0\" width=\"10.0\" height=\"100\" fill=\"rgb(181.04999999999998, 0, 73.95)\"/><rect x=\"700.0\" y=\"0\" width=\"10.0\" height=\"100\" fill=\"rgb(178.5, 0, 76.50000000000001)\"/><rect x=\"690.0\" y=\"0\" width=\"10.0\" height=\"100\" fill=\"rgb(175.95, 0, 79.05000000000001)\"/><rect x=\"680.0\" y=\"0\" width=\"10.0\" height=\"100\" fill=\"rgb(173.4, 0, 81.6)\"/><rect x=\"670.0\" y=\"0\" width=\"10.0\" height=\"100\" fill=\"rgb(170.85000000000002, 0, 84.14999999999999)\"/><rect x=\"660.0\" y=\"0\" width=\"10.0\" height=\"100\" fill=\"rgb(168.3, 0, 86.69999999999999)\"/><rect x=\"650.0\" y=\"0\" width=\"10.0\" height=\"100\" fill=\"rgb(165.75, 0, 89.25)\"/><rect x=\"640.0\" y=\"0\" width=\"10.0\" height=\"100\" fill=\"rgb(163.20000000000002, 0, 91.8)\"/><rect x=\"630.0\" y=\"0\" width=\"10.0\" height=\"100\" fill=\"rgb(160.65, 0, 94.35)\"/><rect x=\"620.0\" y=\"0\" width=\"10.0\" height=\"100\" fill=\"rgb(158.1, 0, 96.9)\"/><rect x=\"610.0\" y=\"0\" width=\"10.0\" height=\"100\" fill=\"rgb(155.54999999999998, 0, 99.45)\"/><rect x=\"600.0\" y=\"0\" width=\"10.0\" height=\"100\" fill=\"rgb(153.0, 0, 102.0)\"/><rect x=\"590.0\" y=\"0\" width=\"10.0\" height=\"100\" fill=\"rgb(150.45, 0, 104.55000000000001)\"/><rect x=\"580.0\" y=\"0\" width=\"10.0\" height=\"100\" fill=\"rgb(147.89999999999998, 0, 107.10000000000001)\"/><rect x=\"570.0\" y=\"0\" width=\"10.0\" height=\"100\" fill=\"rgb(145.35, 0, 109.65)\"/><rect x=\"560.0\" y=\"0\" width=\"10.0\" height=\"100\" fill=\"rgb(142.8, 0, 112.19999999999999)\"/><rect x=\"550.0\" y=\"0\" width=\"10.0\" height=\"100\" fill=\"rgb(140.25, 0, 114.74999999999999)\"/><rect x=\"540.0\" y=\"0\" width=\"10.0\" height=\"100\" fill=\"rgb(137.70000000000002, 0, 117.3)\"/><rect x=\"530.0\" y=\"0\" width=\"10.0\" height=\"100\" fill=\"rgb(135.15, 0, 119.85)\"/><rect x=\"520.0\" y=\"0\" width=\"10.0\" height=\"100\" fill=\"rgb(132.6, 0, 122.39999999999999)\"/><rect x=\"510.0\" y=\"0\" width=\"10.0\" height=\"100\" fill=\"rgb(130.05, 0, 124.95)\"/><rect x=\"500.0\" y=\"0\" width=\"10.0\" height=\"100\" fill=\"rgb(127.5, 0, 127.5)\"/><rect x=\"490.0\" y=\"0\" width=\"10.0\" height=\"100\" fill=\"rgb(124.95, 0, 130.05)\"/><rect x=\"480.0\" y=\"0\" width=\"10.0\" height=\"100\" fill=\"rgb(122.39999999999999, 0, 132.6)\"/><rect x=\"470.0\" y=\"0\" width=\"10.0\" height=\"100\" fill=\"rgb(119.85, 0, 135.15)\"/><rect x=\"460.0\" y=\"0\" width=\"10.0\" height=\"100\" fill=\"rgb(117.30000000000001, 0, 137.70000000000002)\"/><rect x=\"450.0\" y=\"0\" width=\"10.0\" height=\"100\" fill=\"rgb(114.75, 0, 140.25)\"/><rect x=\"440.0\" y=\"0\" width=\"10.0\" height=\"100\" fill=\"rgb(112.2, 0, 142.8)\"/><rect x=\"430.0\" y=\"0\" width=\"10.0\" height=\"100\" fill=\"rgb(109.64999999999999, 0, 145.35000000000002)\"/><rect x=\"420.0\" y=\"0\" width=\"10.0\" height=\"100\" fill=\"rgb(107.1, 0, 147.9)\"/><rect x=\"410.0\" y=\"0\" width=\"10.0\" height=\"100\" fill=\"rgb(104.55, 0, 150.45000000000002)\"/><rect x=\"400.0\" y=\"0\" width=\"10.0\" height=\"100\" fill=\"rgb(102.0, 0, 153.0)\"/><rect x=\"390.0\" y=\"0\" width=\"10.0\" height=\"100\" fill=\"rgb(99.45, 0, 155.54999999999998)\"/><rect x=\"380.0\" y=\"0\" width=\"10.0\" height=\"100\" fill=\"rgb(96.9, 0, 158.1)\"/><rect x=\"370.0\" y=\"0\" width=\"10.0\" height=\"100\" fill=\"rgb(94.35, 0, 160.65)\"/><rect x=\"360.0\" y=\"0\" width=\"10.0\" height=\"100\" fill=\"rgb(91.8, 0, 163.20000000000002)\"/><rect x=\"350.0\" y=\"0\" width=\"10.0\" height=\"100\" fill=\"rgb(89.25, 0, 165.75)\"/><rect x=\"340.0\" y=\"0\" width=\"10.0\" height=\"100\" fill=\"rgb(86.7, 0, 168.29999999999998)\"/><rect x=\"330.0\" y=\"0\" width=\"10.0\" height=\"100\" fill=\"rgb(84.15, 0, 170.85)\"/><rect x=\"320.0\" y=\"0\" width=\"10.0\" height=\"100\" fill=\"rgb(81.60000000000001, 0, 173.39999999999998)\"/><rect x=\"310.0\" y=\"0\" width=\"10.0\" height=\"100\" fill=\"rgb(79.05, 0, 175.95)\"/><rect x=\"300.0\" y=\"0\" width=\"10.0\" height=\"100\" fill=\"rgb(76.5, 0, 178.5)\"/><rect x=\"290.0\" y=\"0\" width=\"10.0\" height=\"100\" fill=\"rgb(73.94999999999999, 0, 181.04999999999998)\"/><rect x=\"280.0\" y=\"0\" width=\"10.0\" height=\"100\" fill=\"rgb(71.4, 0, 183.6)\"/><rect x=\"270.0\" y=\"0\" width=\"10.0\" height=\"100\" fill=\"rgb(68.85000000000001, 0, 186.15)\"/><rect x=\"260.0\" y=\"0\" width=\"10.0\" height=\"100\" fill=\"rgb(66.3, 0, 188.7)\"/><rect x=\"250.0\" y=\"0\" width=\"10.0\" height=\"100\" fill=\"rgb(63.75, 0, 191.25)\"/><rect x=\"240.0\" y=\"0\" width=\"10.0\" height=\"100\" fill=\"rgb(61.199999999999996, 0, 193.8)\"/><rect x=\"230.0\" y=\"0\" width=\"10.0\" height=\"100\" fill=\"rgb(58.650000000000006, 0, 196.35)\"/><rect x=\"220.0\" y=\"0\" width=\"10.0\" height=\"100\" fill=\"rgb(56.1, 0, 198.9)\"/><rect x=\"210.0\" y=\"0\" width=\"10.0\" height=\"100\" fill=\"rgb(53.55, 0, 201.45000000000002)\"/><rect x=\"200.0\" y=\"0\" width=\"10.0\" height=\"100\" fill=\"rgb(51.0, 0, 204.0)\"/><rect x=\"190.0\" y=\"0\" width=\"10.0\" height=\"100\" fill=\"rgb(48.45, 0, 206.55)\"/><rect x=\"180.0\" y=\"0\" width=\"10.0\" height=\"100\" fill=\"rgb(45.9, 0, 209.10000000000002)\"/><rect x=\"170.0\" y=\"0\" width=\"10.0\" height=\"100\" fill=\"rgb(43.35, 0, 211.64999999999998)\"/><rect x=\"160.0\" y=\"0\" width=\"10.0\" height=\"100\" fill=\"rgb(40.800000000000004, 0, 214.2)\"/><rect x=\"150.0\" y=\"0\" width=\"10.0\" height=\"100\" fill=\"rgb(38.25, 0, 216.75)\"/><rect x=\"140.0\" y=\"0\" width=\"10.0\" height=\"100\" fill=\"rgb(35.7, 0, 219.29999999999998)\"/><rect x=\"130.0\" y=\"0\" width=\"10.0\" height=\"100\" fill=\"rgb(33.15, 0, 221.85)\"/><rect x=\"120.0\" y=\"0\" width=\"10.0\" height=\"100\" fill=\"rgb(30.599999999999998, 0, 224.4)\"/><rect x=\"110.0\" y=\"0\" width=\"10.0\" height=\"100\" fill=\"rgb(28.05, 0, 226.95000000000002)\"/><rect x=\"100.0\" y=\"0\" width=\"10.0\" height=\"100\" fill=\"rgb(25.5, 0, 229.5)\"/><rect x=\"90.0\" y=\"0\" width=\"10.0\" height=\"100\" fill=\"rgb(22.95, 0, 232.05)\"/><rect x=\"80.0\" y=\"0\" width=\"10.0\" height=\"100\" fill=\"rgb(20.400000000000002, 0, 234.60000000000002)\"/><rect x=\"70.0\" y=\"0\" width=\"10.0\" height=\"100\" fill=\"rgb(17.85, 0, 237.14999999999998)\"/><rect x=\"60.0\" y=\"0\" width=\"10.0\" height=\"100\" fill=\"rgb(15.299999999999999, 0, 239.7)\"/><rect x=\"50.0\" y=\"0\" width=\"10.0\" height=\"100\" fill=\"rgb(12.75, 0, 242.25)\"/><rect x=\"40.0\" y=\"0\" width=\"10.0\" height=\"100\" fill=\"rgb(10.200000000000001, 0, 244.79999999999998)\"/><rect x=\"30.0\" y=\"0\" width=\"10.0\" height=\"100\" fill=\"rgb(7.6499999999999995, 0, 247.35)\"/><rect x=\"20.0\" y=\"0\" width=\"10.0\" height=\"100\" fill=\"rgb(5.1000000000000005, 0, 249.9)\"/><rect x=\"10.0\" y=\"0\" width=\"10.0\" height=\"100\" fill=\"rgb(2.5500000000000003, 0, 252.45)\"/><rect x=\"0.0\" y=\"0\" width=\"10.0\" height=\"100\" fill=\"rgb(0.0, 0, 255.0)\"/><text x=\"5\" y=\"55.0\" fill=\"white\">low likelihood</text><text x=\"894.3661971830986\" y=\"55.0\" fill=\"white\">high likelihood</text></svg>\n"
     ]
    },
    {
     "data": {
      "image/svg+xml": [
       "<svg xmlns=\"http://www.w3.org/2000/svg\" width=\"30\" height=\"1000\"><rect x=\"0\" y=\"1000.0000000000001\" width=\"30\" height=\"33.333333333333336\" fill=\"rgb(255.0, 0, 0.0)\"/><rect x=\"0\" y=\"966.6666666666667\" width=\"30\" height=\"33.333333333333336\" fill=\"rgb(246.5, 0, 8.499999999999998)\"/><rect x=\"0\" y=\"933.3333333333334\" width=\"30\" height=\"33.333333333333336\" fill=\"rgb(238.0, 0, 16.999999999999996)\"/><rect x=\"0\" y=\"900.0000000000001\" width=\"30\" height=\"33.333333333333336\" fill=\"rgb(229.5, 0, 25.499999999999993)\"/><rect x=\"0\" y=\"866.6666666666667\" width=\"30\" height=\"33.333333333333336\" fill=\"rgb(221.0, 0, 33.99999999999999)\"/><rect x=\"0\" y=\"833.3333333333334\" width=\"30\" height=\"33.333333333333336\" fill=\"rgb(212.5, 0, 42.49999999999999)\"/><rect x=\"0\" y=\"800.0\" width=\"30\" height=\"33.333333333333336\" fill=\"rgb(204.0, 0, 50.999999999999986)\"/><rect x=\"0\" y=\"766.6666666666667\" width=\"30\" height=\"33.333333333333336\" fill=\"rgb(195.5, 0, 59.499999999999986)\"/><rect x=\"0\" y=\"733.3333333333334\" width=\"30\" height=\"33.333333333333336\" fill=\"rgb(187.0, 0, 68.00000000000001)\"/><rect x=\"0\" y=\"700.0\" width=\"30\" height=\"33.333333333333336\" fill=\"rgb(178.5, 0, 76.50000000000001)\"/><rect x=\"0\" y=\"666.6666666666667\" width=\"30\" height=\"33.333333333333336\" fill=\"rgb(170.0, 0, 85.00000000000001)\"/><rect x=\"0\" y=\"633.3333333333334\" width=\"30\" height=\"33.333333333333336\" fill=\"rgb(161.5, 0, 93.50000000000001)\"/><rect x=\"0\" y=\"600.0\" width=\"30\" height=\"33.333333333333336\" fill=\"rgb(153.0, 0, 102.0)\"/><rect x=\"0\" y=\"566.6666666666667\" width=\"30\" height=\"33.333333333333336\" fill=\"rgb(144.5, 0, 110.5)\"/><rect x=\"0\" y=\"533.3333333333334\" width=\"30\" height=\"33.333333333333336\" fill=\"rgb(136.0, 0, 119.0)\"/><rect x=\"0\" y=\"500.00000000000006\" width=\"30\" height=\"33.333333333333336\" fill=\"rgb(127.5, 0, 127.5)\"/><rect x=\"0\" y=\"466.6666666666667\" width=\"30\" height=\"33.333333333333336\" fill=\"rgb(119.0, 0, 136.0)\"/><rect x=\"0\" y=\"433.33333333333337\" width=\"30\" height=\"33.333333333333336\" fill=\"rgb(110.5, 0, 144.5)\"/><rect x=\"0\" y=\"400.0\" width=\"30\" height=\"33.333333333333336\" fill=\"rgb(102.0, 0, 153.0)\"/><rect x=\"0\" y=\"366.6666666666667\" width=\"30\" height=\"33.333333333333336\" fill=\"rgb(93.5, 0, 161.5)\"/><rect x=\"0\" y=\"333.33333333333337\" width=\"30\" height=\"33.333333333333336\" fill=\"rgb(85.0, 0, 170.00000000000003)\"/><rect x=\"0\" y=\"300.0\" width=\"30\" height=\"33.333333333333336\" fill=\"rgb(76.5, 0, 178.5)\"/><rect x=\"0\" y=\"266.6666666666667\" width=\"30\" height=\"33.333333333333336\" fill=\"rgb(68.0, 0, 187.00000000000003)\"/><rect x=\"0\" y=\"233.33333333333334\" width=\"30\" height=\"33.333333333333336\" fill=\"rgb(59.5, 0, 195.49999999999997)\"/><rect x=\"0\" y=\"200.0\" width=\"30\" height=\"33.333333333333336\" fill=\"rgb(51.0, 0, 204.0)\"/><rect x=\"0\" y=\"166.66666666666669\" width=\"30\" height=\"33.333333333333336\" fill=\"rgb(42.5, 0, 212.5)\"/><rect x=\"0\" y=\"133.33333333333334\" width=\"30\" height=\"33.333333333333336\" fill=\"rgb(34.0, 0, 221.0)\"/><rect x=\"0\" y=\"100.0\" width=\"30\" height=\"33.333333333333336\" fill=\"rgb(25.5, 0, 229.5)\"/><rect x=\"0\" y=\"66.66666666666667\" width=\"30\" height=\"33.333333333333336\" fill=\"rgb(17.0, 0, 238.0)\"/><rect x=\"0\" y=\"33.333333333333336\" width=\"30\" height=\"33.333333333333336\" fill=\"rgb(8.5, 0, 246.5)\"/><rect x=\"0\" y=\"0.0\" width=\"30\" height=\"33.333333333333336\" fill=\"rgb(0.0, 0, 255.0)\"/><text x=\"5\" y=\"-10.0\" fill=\"white\" transform=\"rotate(90, 0, 0)\">low likelihood</text><text x=\"894.3661971830986\" y=\"-10.0\" fill=\"white\" transform=\"rotate(90, 0, 0)\">high likelihood</text></svg>"
      ],
      "text/plain": [
       "<IPython.core.display.SVG object>"
      ]
     },
     "metadata": {},
     "output_type": "display_data"
    }
   ],
   "source": [
    "# append 11 rectangles to eachother in svg\n",
    "\n",
    "def draw_gradient_svg(length, diam, ax = 0, steps = 100):\n",
    "    '''\n",
    "    ax = 0: x axis\n",
    "    ax = 1: y axis\n",
    "    '''\n",
    "\n",
    "    width = length\n",
    "    height = diam\n",
    "    if ax == 1:\n",
    "        width = diam\n",
    "        height = length\n",
    "    \n",
    "    svg = \"\"\"<svg width=\"{}\" height=\"{}\" xmlns=\"http://www.w3.org/2000/svg\">\"\"\".format(width, height)\n",
    "    rectWidth = width/steps\n",
    "    rectHeight = height\n",
    "    if ax == 1:\n",
    "        rectWidth = width\n",
    "        rectHeight = height/steps\n",
    "\n",
    "\n",
    "    # else:\n",
    "    #     # add text to svg rotated\n",
    "    #     svg += \"\"\"<text x=\"{}\" y=\"{}\" fill=\"black\" transform=\"rotate(90, {}, {})\">{}</text>\"\"\".format(0, height/2, 0, height/2, \"low likelihood\")\n",
    "    #     svg += \"\"\"<text x=\"{}\" y=\"{}\" fill=\"black\" transform=\"rotate(90, {}, {})\">{}</text>\"\"\".format(0, width-100, 0, width-100, \"high likelihood\")\n",
    "\n",
    "    for i in range(steps, -1, -1):\n",
    "        if ax == 0:\n",
    "            svg += \"\"\"<rect x=\"{}\" y=\"{}\" width=\"{}\" height=\"{}\" fill=\"rgb({}, 0, {})\"/>\"\"\".format(i*rectWidth, 0, rectWidth, rectHeight, (i/steps)*255, (1-i/steps)*255)\n",
    "        else:\n",
    "            svg += \"\"\"<rect x=\"{}\" y=\"{}\" width=\"{}\" height=\"{}\" fill=\"rgb({}, 0, {})\"/>\"\"\".format(0, i*rectHeight, rectWidth, rectHeight, (i/steps)*255, (1-i/steps)*255)\n",
    "\n",
    "    if ax == 0:\n",
    "    #     # add text to svg\n",
    "        fontSize = 10\n",
    "        svg += \"\"\"<text x=\"{}\" y=\"{}\" fill=\"white\">{}</text>\"\"\".format(5, (height+fontSize)/2, \"low likelihood\")\n",
    "        # get width of text\n",
    "        text = \"high likelihood\"\n",
    "        svg += \"\"\"<text x=\"{}\" y=\"{}\" fill=\"white\">{}</text>\"\"\".format(width-len(text)*fontSize/1.42, (height+fontSize)/2, text)\n",
    "    else:\n",
    "        # add text to svg rotated\n",
    "        fontSize = 10\n",
    "        text = \"high likelihood\"\n",
    "        svg += \"\"\"<text x=\"{}\" y=\"{}\" fill=\"white\" transform=\"rotate(90, {}, {})\">{}</text>\"\"\".format(5, -(width-fontSize)/2, 0, 0, \"low likelihood\")\n",
    "        svg += \"\"\"<text x=\"{}\" y=\"{}\" fill=\"white\" transform=\"rotate(90, {}, {})\">{}</text>\"\"\".format(height-len(text)*fontSize/1.42, -(width-fontSize)/2, 0, 0, text)\n",
    "\n",
    "    svg += \"</svg>\"\n",
    "    return svg\n",
    "\n",
    "# show svg\n",
    "from IPython.display import SVG, display\n",
    "print(draw_gradient_svg(1000, 100, ax = 0, steps = 100))\n",
    "display(SVG(draw_gradient_svg(1000, 30, ax = 1, steps = 30)))\n",
    "\n"
   ]
  }
 ],
 "metadata": {
  "kernelspec": {
   "display_name": "Python 3",
   "language": "python",
   "name": "python3"
  },
  "language_info": {
   "codemirror_mode": {
    "name": "ipython",
    "version": 3
   },
   "file_extension": ".py",
   "mimetype": "text/x-python",
   "name": "python",
   "nbconvert_exporter": "python",
   "pygments_lexer": "ipython3",
   "version": "3.9.15"
  },
  "orig_nbformat": 4
 },
 "nbformat": 4,
 "nbformat_minor": 2
}
