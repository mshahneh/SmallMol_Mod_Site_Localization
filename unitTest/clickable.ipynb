{
 "cells": [
  {
   "cell_type": "code",
   "execution_count": 1,
   "metadata": {},
   "outputs": [
    {
     "name": "stdout",
     "output_type": "stream",
     "text": [
      "2022.09.1\n",
      "Wed May  3 14:51:50 2023\n"
     ]
    }
   ],
   "source": [
    "from rdkit import Chem\n",
    "#from rdkit.Chem import AllChem\n",
    "from rdkit.Chem import Draw\n",
    "from rdkit.Chem.Draw import rdMolDraw2D\n",
    "from IPython.display import SVG\n",
    "from rdkit.Chem.Draw import IPythonConsole\n",
    "import rdkit\n",
    "import time\n",
    "import pandas as pd\n",
    "print(rdkit.__version__)\n",
    "print(time.asctime())"
   ]
  },
  {
   "cell_type": "code",
   "execution_count": 2,
   "metadata": {},
   "outputs": [],
   "source": [
    "import ipywidgets as widgets\n",
    "from traitlets import Unicode, Int, validate\n",
    "class MolSVGWidget(widgets.DOMWidget):\n",
    "    _view_name = Unicode('MolSVGView').tag(sync=True)\n",
    "    _view_module = Unicode('molsvg_widget').tag(sync=True)\n",
    "    _view_module_version = Unicode('0.0.1').tag(sync=True)\n",
    "     \n",
    "    svg = Unicode('', help=\"svg to be rendered\").tag(sync=True)\n",
    "    #selected_atoms = Unicode('', help=\"list of currently selected atoms\").tag(sync=True)\n",
    "    clicked_atom_idx = Unicode('', help=\"The index of the atom that was just clicked\").tag(sync=True)\n"
   ]
  },
  {
   "cell_type": "code",
   "execution_count": 1,
   "metadata": {},
   "outputs": [
    {
     "data": {
      "application/javascript": "alert(\"hello, world!\");\n",
      "text/plain": [
       "<IPython.core.display.Javascript object>"
      ]
     },
     "metadata": {},
     "output_type": "display_data"
    }
   ],
   "source": [
    "%%js\n",
    "alert(\"hello, world!\");"
   ]
  },
  {
   "cell_type": "code",
   "execution_count": 8,
   "metadata": {},
   "outputs": [
    {
     "data": {
      "application/javascript": "// make sure our module is only defined\n// only once.\nrequire.undef('molsvg_widget');\n\n// Define the `molsvg_widget` module using the Jupyter widgets framework.\ndefine('molsvg_widget', [\"@jupyter-widgets/base\"],\n       function(widgets) {\n\n    // The frontend class:\n    var MolSVGView = widgets.DOMWidgetView.extend({\n\n        // This method creates the HTML widget.\n        render: function() {\n            this.svg_div = document.createElement('div');\n            this.el.appendChild(this.svg_div);\n            this.model.on('change:svg', this.svg_changed, this);\n            this.svg_changed();\n        },\n        \n        // called when the SVG is updated on the Python side\n        svg_changed: function() {\n            var txt = this.model.get('svg'); \n            this.svg_div.innerHTML = txt;\n            var sels = this.svg_div.getElementsByClassName(\"atom-selector\");\n            for(var i=0;i<sels.length;i++){\n                sels[i].onclick = (evt) => { return this.atom_clicked(evt) };\n            }\n            \n        },\n\n        // callback for when an atom is clicked\n        atom_clicked: function(evt) {\n            //alert(\"  \"+evt+\"|\"+this);\n            if(!evt.currentTarget.getAttribute('class')){\n                return;\n            }\n            var satmid = evt.currentTarget.getAttribute('class').match(/atom-([0-9]+)/);\n            if(satmid.length >1){\n                var atmid = Number(satmid[1]);\n                var curSel = this.model.get('selected_atoms');\n                var splitSel = curSel.split(',');\n                var selItms = [];\n                var idx = -1;\n                //alert(\"|\"+atmid+\"|\"+curSel+\"|len: \"+splitSel.length);\n                if(curSel != \"\" && splitSel.length>0){\n                    selItms = Array.from(splitSel).map(item => Number(item));\n                    idx = selItms.indexOf(atmid);\n                }\n                if(idx == -1){\n                    selItms = selItms.concat(atmid);\n                    evt.currentTarget.style[\"stroke-width\"]=3;\n                    evt.currentTarget.style[\"stroke-opacity\"]=1;\n                    evt.currentTarget.style[\"stroke\"]='#AA22FF';\n                } else {\n                    selItms.splice(idx,1);\n                    evt.currentTarget.style[\"stroke-width\"]=1;\n                    evt.currentTarget.style[\"stroke-opacity\"]=0;\n                    evt.currentTarget.style[\"stroke\"]='#FFFFFF';\n                }\n                this.model.set('selected_atoms',String(selItms));\n                this.touch();\n            }\n        }\n\n    });\n\n    return {\n        MolSVGView : MolSVGView\n    };\n});\n",
      "text/plain": [
       "<IPython.core.display.Javascript object>"
      ]
     },
     "metadata": {},
     "output_type": "display_data"
    }
   ],
   "source": [
    "%%javascript\n",
    "// make sure our module is only defined\n",
    "// only once.\n",
    "require.undef('molsvg_widget');\n",
    " \n",
    "// Define the `molsvg_widget` module using the Jupyter widgets framework.\n",
    "define('molsvg_widget', [\"@jupyter-widgets/base\"],\n",
    "       function(widgets) {\n",
    " \n",
    "    // The frontend class:\n",
    "    var MolSVGView = widgets.DOMWidgetView.extend({\n",
    " \n",
    "        // This method creates the HTML widget.\n",
    "        render: function() {\n",
    "            this.svg_div = document.createElement('div');\n",
    "            this.el.appendChild(this.svg_div);\n",
    "            this.model.on('change:svg', this.svg_changed, this);\n",
    "            this.svg_changed();\n",
    "        },\n",
    "         \n",
    "        // called when the SVG is updated on the Python side\n",
    "        svg_changed: function() {\n",
    "            var txt = this.model.get('svg'); \n",
    "            this.svg_div.innerHTML = txt;\n",
    "            var sels = this.svg_div.getElementsByClassName(\"atom-selector\");\n",
    "            for(var i=0;i&amp;amp;lt;sels.length;i++){ sels[i].onclick = (evt) =&amp;amp;gt; { return this.atom_clicked(evt) };\n",
    "                //sels[i].r = sels[i].r*2; #R is read only, set_r?\n",
    "                //Or regexp the r from the svg and increase the size there.\n",
    "            }\n",
    "             \n",
    "        },\n",
    " \n",
    "        // callback for when an atom is clicked\n",
    "        atom_clicked: function(evt) {\n",
    "            //alert(\"  \"+evt+\"|\"+this);\n",
    "            if(!evt.currentTarget.getAttribute('class')){\n",
    "                return;\n",
    "            }\n",
    "            var satmid = evt.currentTarget.getAttribute('class').match(/atom-([0-9]+)/);\n",
    "            if(satmid.length &amp;amp;gt;1){\n",
    "                var atmid = Number(satmid[1]);\n",
    "                //var curSel = this.model.get('selected_atoms');\n",
    "                //var splitSel = curSel.split(',');\n",
    "                //var selItms = [];\n",
    "                //var idx = -1;\n",
    "                //alert(\"|\"+atmid+\"|\"+curSel+\"|len: \"+splitSel.length);\n",
    "                //if(curSel != \"\" &amp;amp;amp;&amp;amp;amp; splitSel.length&amp;amp;gt;0){\n",
    "                //    selItms = Array.from(splitSel).map(item =&amp;amp;gt; Number(item));\n",
    "                //    idx = selItms.indexOf(atmid);\n",
    "                //}\n",
    "                //if(idx == -1){\n",
    "                //    selItms = selItms.concat(atmid);\n",
    "                //    evt.currentTarget.style[\"stroke-width\"]=3;\n",
    "                //    evt.currentTarget.style[\"stroke-opacity\"]=1;\n",
    "                //    evt.currentTarget.style[\"stroke\"]='#AA22FF';\n",
    "                //} else {\n",
    "                //    selItms.splice(idx,1);\n",
    "                //    evt.currentTarget.style[\"stroke-width\"]=1;\n",
    "                //    evt.currentTarget.style[\"stroke-opacity\"]=0;\n",
    "                //   evt.currentTarget.style[\"stroke\"]='#FFFFFF';\n",
    "                //}\n",
    "                //this.model.set('selected_atoms',String(selItms));\n",
    "                this.model.set('clicked_atom_idx',\"event_hack\");\n",
    "                this.touch();\n",
    "                this.model.set('clicked_atom_idx',String(atmid));\n",
    "                this.touch();\n",
    "            }\n",
    "        }\n",
    " \n",
    "    });\n",
    " \n",
    "    return {\n",
    "        MolSVGView : MolSVGView\n",
    "    };\n",
    "});"
   ]
  },
  {
   "cell_type": "code",
   "execution_count": 8,
   "metadata": {},
   "outputs": [],
   "source": [
    "from IPython.display import display, Javascript\n",
    "\n",
    "# Define the JavaScript code to create a button widget\n",
    "js_button = \"\"\"\n",
    "var button = document.createElement('button');\n",
    "button.innerHTML = 'Click me!';\n",
    "button.onclick = function() {\n",
    "    alert('Button clicked!');\n",
    "};\n",
    "element.append(button);\n",
    "\"\"\"\n",
    "\n",
    "# Create a display element to hold the widget\n",
    "button_display = display('asdasd', display_id=True)\n",
    "\n",
    "# Display the JavaScript code in the display element\n",
    "button_display.update(Javascript(js_button))\n"
   ]
  },
  {
   "cell_type": "code",
   "execution_count": 5,
   "metadata": {},
   "outputs": [
    {
     "data": {
      "application/vnd.jupyter.widget-view+json": {
       "model_id": "92292ada25dc4699bfca3d4f4ec580f3",
       "version_major": 2,
       "version_minor": 0
      },
      "text/plain": [
       "Output()"
      ]
     },
     "metadata": {},
     "output_type": "display_data"
    }
   ],
   "source": [
    "o = widgets.Output()\n",
    "display(o)\n",
    "with o:\n",
    "    print(\"Hello RDKittens!\")\n",
    "with o:\n",
    "    print(\"Hello RDKids!\")"
   ]
  },
  {
   "cell_type": "code",
   "execution_count": 12,
   "metadata": {},
   "outputs": [
    {
     "data": {
      "application/vnd.jupyter.widget-view+json": {
       "model_id": "395970387594421a90ef954181553133",
       "version_major": 2,
       "version_minor": 0
      },
      "text/plain": [
       "HBox(children=(Text(value='', description='Property Name', style=TextStyle(description_width='initial')), Text…"
      ]
     },
     "metadata": {},
     "output_type": "display_data"
    },
    {
     "data": {
      "application/vnd.jupyter.widget-view+json": {
       "model_id": "cf29a858d37d4ade9ac8997282d1fb6a",
       "version_major": 2,
       "version_minor": 0
      },
      "text/plain": [
       "Text(value='', description='Index of clicked atom', style=TextStyle(description_width='initial'))"
      ]
     },
     "metadata": {},
     "output_type": "display_data"
    },
    {
     "data": {
      "application/vnd.jupyter.widget-view+json": {
       "model_id": "65b8f301285d4a4eb9d43233fb7e3b45",
       "version_major": 2,
       "version_minor": 0
      },
      "text/plain": [
       "HBox(children=(Output(), Output()))"
      ]
     },
     "metadata": {},
     "output_type": "display_data"
    }
   ],
   "source": [
    "class AnnotateMol(object):\n",
    "    def __init__(self, mol = Chem.MolFromSmiles(\"c1c([NH3+])cccc1CC(=O)O\")):\n",
    "         \n",
    "        style = {'description_width': 'initial'}\n",
    "        #Create the outputs and widgets\n",
    "        self.o_mol = widgets.Output()\n",
    "        self.o_molstring = widgets.Output()\n",
    "        self.o_table = widgets.Output()\n",
    "        self.o_atomclicked = widgets.Text(description=\"Index of clicked atom\",\n",
    "                                         #layout = widgets.Layout(width=\"100px\"),\n",
    "                                         style=style)\n",
    "        self.t_propertyname = widgets.Text(description=\"Property Name\", style=style)\n",
    "        self.t_propertyvalue =widgets.Text(description=\"Property Value\", style=style)\n",
    "        #Make the GUI\n",
    "         \n",
    "        display(widgets.HBox([self.t_propertyname, self.t_propertyvalue]))\n",
    "        display(self.o_atomclicked)\n",
    "        display(widgets.HBox([self.o_mol, self.o_table]))\n",
    "         \n",
    "        #Set the mol\n",
    "        self.mol = mol\n",
    " \n",
    "    @property\n",
    "    def mol(self):\n",
    "        \"\"\"Return the private mol\"\"\"\n",
    "        return self._mol\n",
    "     \n",
    "    @mol.setter\n",
    "    def mol(self, mol):\n",
    "        \"\"\"Set the private mol and initalize interactive SVG and update output widgets\"\"\"\n",
    "        self._mol = mol\n",
    "        self.create_widget()\n",
    "        self.draw_widget()\n",
    "         \n",
    "         \n",
    "    def create_widget(self):\n",
    "        \"\"\"Create the interactive SVG mol widget\"\"\"\n",
    "        d = rdMolDraw2D.MolDraw2DSVG(200,150)\n",
    "        dm = Draw.PrepareMolForDrawing(self.mol)\n",
    "        d.DrawMolecule(dm)\n",
    "        d.TagAtoms(dm)\n",
    "        d.FinishDrawing()\n",
    "        svg = d.GetDrawingText()\n",
    "        # self.w = MolSVGWidget(svg=svg)\n",
    "        self.w = \"Hello RDKittens!\"\n",
    "         \n",
    "    def draw_widget(self):\n",
    "        \"\"\"Display the mol widget\"\"\"\n",
    "        self.o_mol.clear_output()\n",
    "        with self.o_mol:\n",
    "            display(self.w)\n",
    " \n",
    "app = AnnotateMol()"
   ]
  },
  {
   "cell_type": "code",
   "execution_count": 7,
   "metadata": {},
   "outputs": [],
   "source": [
    "mol2 = Chem.MolFromSmiles(\"CCCCN(C)CCCC\")\n",
    "mol2.GetAtomWithIdx(4).SetProp(\"pKa\",\"12.4\")\n",
    "mol2.GetAtomWithIdx(5).SetProp(\"molFileValue\",\"Hello SD-file!\")\n",
    "app.mol = mol2"
   ]
  }
 ],
 "metadata": {
  "kernelspec": {
   "display_name": "Python 3",
   "language": "python",
   "name": "python3"
  },
  "language_info": {
   "codemirror_mode": {
    "name": "ipython",
    "version": 3
   },
   "file_extension": ".py",
   "mimetype": "text/x-python",
   "name": "python",
   "nbconvert_exporter": "python",
   "pygments_lexer": "ipython3",
   "version": "3.9.15"
  },
  "orig_nbformat": 4
 },
 "nbformat": 4,
 "nbformat_minor": 2
}
