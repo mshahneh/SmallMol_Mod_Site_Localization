{
 "cells": [
  {
   "cell_type": "code",
   "execution_count": 1,
   "metadata": {},
   "outputs": [],
   "source": [
    "from urllib.request import urlopen\n",
    "from IPython.display import SVG\n",
    "import matplotlib.pyplot as plt\n",
    "from rdkit import Chem\n",
    "from tqdm import tqdm\n",
    "import pandas as pd\n",
    "import xlsxwriter\n",
    "import argparse\n",
    "import pickle\n",
    "import numpy as np\n",
    "import json\n",
    "\n",
    "import os\n",
    "import sys\n",
    "module_path = os.path.abspath(os.path.join('..'))\n",
    "if module_path not in sys.path:\n",
    "    sys.path.append(module_path)\n",
    "\n",
    "import visualizer as visualizer\n",
    "import utils as utils\n",
    "import handle_network as hn\n",
    "import fragmentation_py as fragmentation_py\n",
    "import library_downloader as library_downloader\n",
    "import SiteLocator as modSite"
   ]
  },
  {
   "cell_type": "code",
   "execution_count": 2,
   "metadata": {},
   "outputs": [],
   "source": [
    "libraries = {\n",
    "    \"GNPS-MSMLS\": \"https://external.gnps2.org/gnpslibrary/GNPS-MSMLS.json\",\n",
    "    \"GNPS-NIH-NATURALPRODUCTSLIBRARY_ROUND2_POSITIVE\": \"https://external.gnps2.org/gnpslibrary/GNPS-NIH-NATURALPRODUCTSLIBRARY_ROUND2_POSITIVE.json\",\n",
    "    \"GNPS-NIH-SMALLMOLECULEPHARMACOLOGICALLYACTIVE\": \"https://external.gnps2.org/gnpslibrary/GNPS-NIH-SMALLMOLECULEPHARMACOLOGICALLYACTIVE.json\",\n",
    "    \"MIADB\": \"https://external.gnps2.org/gnpslibrary/MIADB.json\",\n",
    "    \"BERKELEY-LAB\": \"https://external.gnps2.org/gnpslibrary/BERKELEY-LAB.json\"\n",
    "    # \"GNPS-LIBRARY\": \"https://gnps-external.ucsd.edu/gnpslibrary/GNPS-LIBRARY.json\"\n",
    "}"
   ]
  },
  {
   "cell_type": "code",
   "execution_count": 3,
   "metadata": {},
   "outputs": [],
   "source": [
    "library =\"BERKELEY-LAB\"\n",
    "if not os.path.exists( os.path.join(\"../data/libraries\", library)):\n",
    "    url = \"https://gnps-external.ucsd.edu/gnpslibrary/\" + library + \".json\"\n",
    "    location = \"../data/libraries/\" + library + \"/\"\n",
    "    library_downloader.download(url, location, 0.5, 0.1)\n",
    "\n",
    "with open(os.path.join(\"../data/libraries\", library, \"data_dict_filtered.pkl\"), \"rb\") as f:\n",
    "    data_dict_filtered = pickle.load(f)\n",
    "\n",
    "# load matches\n",
    "with open(os.path.join(\"../data/libraries\", library, \"matches.pkl\"), \"rb\") as f:\n",
    "    matches = pickle.load(f)\n",
    "\n",
    "# load cachedStructures_filtered\n",
    "with open(os.path.join(\"../data/libraries\", library, \"cachedStructures.pkl\"), \"rb\") as f:\n",
    "    cachedStructures_filtered = pickle.load(f)"
   ]
  },
  {
   "cell_type": "code",
   "execution_count": 4,
   "metadata": {},
   "outputs": [
    {
     "name": "stdout",
     "output_type": "stream",
     "text": [
      "('CCMSLIB00010108996', 'CCMSLIB00010107281')\n"
     ]
    }
   ],
   "source": [
    "print (matches[1].pop())"
   ]
  },
  {
   "cell_type": "code",
   "execution_count": 5,
   "metadata": {},
   "outputs": [
    {
     "name": "stdout",
     "output_type": "stream",
     "text": [
      "253.051 237.056\n"
     ]
    }
   ],
   "source": [
    "print (data_dict_filtered['CCMSLIB00010105110']['Precursor_MZ'], data_dict_filtered['CCMSLIB00010114866']['Precursor_MZ'])"
   ]
  },
  {
   "cell_type": "code",
   "execution_count": 6,
   "metadata": {},
   "outputs": [
    {
     "name": "stdout",
     "output_type": "stream",
     "text": [
      "6974\n"
     ]
    }
   ],
   "source": [
    "## create cashe helpers\n",
    "helpers = dict()\n",
    "for match in matches[1]:\n",
    "    if match[0] not in helpers:\n",
    "        helpers[match[0]] = []\n",
    "    helpers[match[0]].append(match[1])\n",
    "\n",
    "print(len(helpers))"
   ]
  },
  {
   "cell_type": "code",
   "execution_count": 7,
   "metadata": {},
   "outputs": [],
   "source": [
    "colums = [\"mol1ID\", \"mol2ID\", \"mol1smile\", \"mol2smile\", \"delta_mass\",\n",
    "        \"#_matched_peaks\", \"#_shifted_peaks\", \"#_unshifted_peaks\", \n",
    "        \"Closest_Max_Atom_Distance\", \"Count_Max\", \"Is_Max\", \"cosine\", \n",
    "        \"score\", \"helper_score\", \"best_score\", \"random_guess\", \"random_prob\", \"url\"]\n",
    "\n",
    "\n"
   ]
  },
  {
   "cell_type": "code",
   "execution_count": 8,
   "metadata": {},
   "outputs": [
    {
     "name": "stdout",
     "output_type": "stream",
     "text": [
      "dict_keys(['spectrum_id', 'source_file', 'task', 'scan', 'ms_level', 'library_membership', 'spectrum_status', 'peaks_json', 'splash', 'submit_user', 'Compound_Name', 'Ion_Source', 'Compound_Source', 'Instrument', 'PI', 'Data_Collector', 'Adduct', 'Scan', 'Precursor_MZ', 'ExactMass', 'Charge', 'CAS_Number', 'Pubmed_ID', 'Smiles', 'INCHI', 'INCHI_AUX', 'Library_Class', 'SpectrumID', 'Ion_Mode', 'create_time', 'task_id', 'user_id', 'InChIKey_smiles', 'InChIKey_inchi', 'Formula_smiles', 'Formula_inchi', 'url', 'annotation_history'])\n",
      "<class 'float'>\n"
     ]
    }
   ],
   "source": [
    "print (data_dict_filtered['CCMSLIB00010105110'].keys())\n",
    "print(type(json.loads(data_dict_filtered['CCMSLIB00010105110']['peaks_json'])[0][1]))"
   ]
  },
  {
   "cell_type": "code",
   "execution_count": 9,
   "metadata": {},
   "outputs": [],
   "source": [
    "m0, m1 = matches[1].pop()\n",
    "molMol = cachedStructures_filtered[m1]\n",
    "modifMol = cachedStructures_filtered[m0]\n",
    "molUsi = hn.generate_usi(m1, library)\n",
    "modifUsi = hn.generate_usi(m0, library)\n",
    "molSmiles = data_dict_filtered[m1]['Smiles']\n",
    "modifSmiles = data_dict_filtered[m0]['Smiles']\n",
    "site = modSite.SiteLocator(data_dict_filtered[m1], data_dict_filtered[m0], molMol)"
   ]
  },
  {
   "cell_type": "code",
   "execution_count": 9,
   "metadata": {},
   "outputs": [
    {
     "data": {
      "text/html": [
       "<div>\n",
       "<style scoped>\n",
       "    .dataframe tbody tr th:only-of-type {\n",
       "        vertical-align: middle;\n",
       "    }\n",
       "\n",
       "    .dataframe tbody tr th {\n",
       "        vertical-align: top;\n",
       "    }\n",
       "\n",
       "    .dataframe thead th {\n",
       "        text-align: right;\n",
       "    }\n",
       "</style>\n",
       "<table border=\"1\" class=\"dataframe\">\n",
       "  <thead>\n",
       "    <tr style=\"text-align: right;\">\n",
       "      <th></th>\n",
       "      <th>score</th>\n",
       "      <th>best_score</th>\n",
       "      <th>random_guess</th>\n",
       "      <th>random_prob</th>\n",
       "      <th>delta_mass</th>\n",
       "    </tr>\n",
       "    <tr>\n",
       "      <th>delta_mass_bin</th>\n",
       "      <th></th>\n",
       "      <th></th>\n",
       "      <th></th>\n",
       "      <th></th>\n",
       "      <th></th>\n",
       "    </tr>\n",
       "  </thead>\n",
       "  <tbody>\n",
       "    <tr>\n",
       "      <th>(11.844, 23.973]</th>\n",
       "      <td>0.624236</td>\n",
       "      <td>0.849112</td>\n",
       "      <td>0.429793</td>\n",
       "      <td>0.447761</td>\n",
       "      <td>15.002978</td>\n",
       "    </tr>\n",
       "    <tr>\n",
       "      <th>(23.973, 35.983]</th>\n",
       "      <td>0.689106</td>\n",
       "      <td>0.909722</td>\n",
       "      <td>0.399434</td>\n",
       "      <td>0.403306</td>\n",
       "      <td>30.190569</td>\n",
       "    </tr>\n",
       "    <tr>\n",
       "      <th>(35.983, 47.992]</th>\n",
       "      <td>0.610385</td>\n",
       "      <td>0.744186</td>\n",
       "      <td>0.613554</td>\n",
       "      <td>0.638066</td>\n",
       "      <td>43.058070</td>\n",
       "    </tr>\n",
       "    <tr>\n",
       "      <th>(47.992, 60.001]</th>\n",
       "      <td>0.709444</td>\n",
       "      <td>0.750000</td>\n",
       "      <td>0.525307</td>\n",
       "      <td>0.504758</td>\n",
       "      <td>56.722600</td>\n",
       "    </tr>\n",
       "    <tr>\n",
       "      <th>(60.001, 72.01]</th>\n",
       "      <td>0.745219</td>\n",
       "      <td>0.857143</td>\n",
       "      <td>0.452022</td>\n",
       "      <td>0.554862</td>\n",
       "      <td>64.673214</td>\n",
       "    </tr>\n",
       "    <tr>\n",
       "      <th>(72.01, 84.02]</th>\n",
       "      <td>0.707714</td>\n",
       "      <td>0.866667</td>\n",
       "      <td>0.498320</td>\n",
       "      <td>0.467545</td>\n",
       "      <td>76.672133</td>\n",
       "    </tr>\n",
       "    <tr>\n",
       "      <th>(84.02, 96.029]</th>\n",
       "      <td>0.627099</td>\n",
       "      <td>1.000000</td>\n",
       "      <td>0.140394</td>\n",
       "      <td>0.255604</td>\n",
       "      <td>85.049000</td>\n",
       "    </tr>\n",
       "    <tr>\n",
       "      <th>(96.029, 108.038]</th>\n",
       "      <td>0.750000</td>\n",
       "      <td>0.750000</td>\n",
       "      <td>0.523571</td>\n",
       "      <td>0.275306</td>\n",
       "      <td>102.048250</td>\n",
       "    </tr>\n",
       "    <tr>\n",
       "      <th>(108.038, 120.048]</th>\n",
       "      <td>1.000000</td>\n",
       "      <td>1.000000</td>\n",
       "      <td>0.096972</td>\n",
       "      <td>1.000000</td>\n",
       "      <td>109.993000</td>\n",
       "    </tr>\n",
       "    <tr>\n",
       "      <th>(120.048, 132.057]</th>\n",
       "      <td>0.929133</td>\n",
       "      <td>1.000000</td>\n",
       "      <td>0.214007</td>\n",
       "      <td>0.301377</td>\n",
       "      <td>127.437000</td>\n",
       "    </tr>\n",
       "  </tbody>\n",
       "</table>\n",
       "</div>"
      ],
      "text/plain": [
       "                       score  best_score  random_guess  random_prob  \\\n",
       "delta_mass_bin                                                        \n",
       "(11.844, 23.973]    0.624236    0.849112      0.429793     0.447761   \n",
       "(23.973, 35.983]    0.689106    0.909722      0.399434     0.403306   \n",
       "(35.983, 47.992]    0.610385    0.744186      0.613554     0.638066   \n",
       "(47.992, 60.001]    0.709444    0.750000      0.525307     0.504758   \n",
       "(60.001, 72.01]     0.745219    0.857143      0.452022     0.554862   \n",
       "(72.01, 84.02]      0.707714    0.866667      0.498320     0.467545   \n",
       "(84.02, 96.029]     0.627099    1.000000      0.140394     0.255604   \n",
       "(96.029, 108.038]   0.750000    0.750000      0.523571     0.275306   \n",
       "(108.038, 120.048]  1.000000    1.000000      0.096972     1.000000   \n",
       "(120.048, 132.057]  0.929133    1.000000      0.214007     0.301377   \n",
       "\n",
       "                    delta_mass  \n",
       "delta_mass_bin                  \n",
       "(11.844, 23.973]     15.002978  \n",
       "(23.973, 35.983]     30.190569  \n",
       "(35.983, 47.992]     43.058070  \n",
       "(47.992, 60.001]     56.722600  \n",
       "(60.001, 72.01]      64.673214  \n",
       "(72.01, 84.02]       76.672133  \n",
       "(84.02, 96.029]      85.049000  \n",
       "(96.029, 108.038]   102.048250  \n",
       "(108.038, 120.048]  109.993000  \n",
       "(120.048, 132.057]  127.437000  "
      ]
     },
     "execution_count": 9,
     "metadata": {},
     "output_type": "execute_result"
    }
   ],
   "source": [
    "cols = [\"score\", \"best_score\", \"random_guess\", \"random_prob\", \"delta_mass\"]\n",
    "selected = df[cols]\n",
    "selected = selected.apply(pd.to_numeric)\n",
    "\n",
    "# Bin the data by delta_mass into discrete bins\n",
    "selected['delta_mass_bin'] = pd.cut(selected['delta_mass'], bins=10)\n",
    "\n",
    "selected.groupby(selected['delta_mass_bin']).mean()"
   ]
  },
  {
   "cell_type": "code",
   "execution_count": 10,
   "metadata": {},
   "outputs": [],
   "source": [
    "molMol = cachedStructures_filtered[m1]\n",
    "modifMol = cachedStructures_filtered[m0]\n",
    "molUsi = hn.generate_usi(m1, library)\n",
    "modifUsi = hn.generate_usi(m0, library)\n",
    "molSmiles = data_dict_filtered[m1]['Smiles']\n",
    "modifSmiles = data_dict_filtered[m0]['Smiles']\n",
    "site = modSite.SiteLocator(data_dict_filtered[m1], data_dict_filtered[m0], molSmiles)"
   ]
  },
  {
   "cell_type": "code",
   "execution_count": 11,
   "metadata": {},
   "outputs": [
    {
     "name": "stderr",
     "output_type": "stream",
     "text": [
      "  2%|▏         | 212/10000 [11:12<2:46:24,  1.02s/it] Traceback (most recent call last):\n",
      "  File \"/home/user/Substructure_Assignment/sharable/SiteLocator.py\", line 228, in helper_molecule\n",
      "    for bond in molSubStruct.GetBonds():\n",
      "KeyboardInterrupt\n",
      "\n",
      "During handling of the above exception, another exception occurred:\n",
      "\n",
      "Traceback (most recent call last):\n",
      "  File \"/tmp/ipykernel_2710542/2383221216.py\", line 27, in <module>\n",
      "    countUpdated = site.helper_molecule(data_dict_filtered[helper], data_dict_filtered[helper]['Smiles'], helperFile)\n",
      "  File \"/home/user/Substructure_Assignment/sharable/SiteLocator.py\", line 242, in helper_molecule\n",
      "    raise Exception(\"error aromaticity\")\n",
      "Exception: error aromaticity\n",
      "Traceback (most recent call last):\n",
      "  File \"/home/user/Substructure_Assignment/sharable/SiteLocator.py\", line 228, in helper_molecule\n",
      "    for bond in molSubStruct.GetBonds():\n",
      "KeyboardInterrupt\n",
      "\n",
      "During handling of the above exception, another exception occurred:\n",
      "\n",
      "Traceback (most recent call last):\n",
      "  File \"/tmp/ipykernel_2710542/2383221216.py\", line 27, in <module>\n",
      "    countUpdated = site.helper_molecule(data_dict_filtered[helper], data_dict_filtered[helper]['Smiles'], helperFile)\n",
      "  File \"/home/user/Substructure_Assignment/sharable/SiteLocator.py\", line 242, in helper_molecule\n",
      "    raise Exception(\"error aromaticity\")\n",
      "Exception: error aromaticity\n",
      "\n",
      "During handling of the above exception, another exception occurred:\n",
      "\n",
      "Traceback (most recent call last):\n",
      "  File \"/tmp/ipykernel_2710542/2383221216.py\", line 36, in <module>\n",
      "    raise Exception(\"helper error2\")\n",
      "Exception: helper error2\n",
      "  2%|▏         | 213/10000 [11:45<9:00:36,  3.31s/it]"
     ]
    },
    {
     "name": "stdout",
     "output_type": "stream",
     "text": [
      "error cccc(c)-c1cc(=O)c2c(O)cc(O)cc2o1 ccc1c(=O)cc(-c2ccc(O)cc2)oc1c {'spectrum_id': 'CCMSLIB00010106136', 'source_file': 'tharwood/spectral_libraries/BERKELEY-LAB.mgf', 'task': '3dacd5cf9c8d4c3d8596c71bf3234fbd', 'scan': '3702', 'ms_level': '2', 'library_membership': 'BERKELEY-LAB', 'spectrum_status': '1', 'peaks_json': '[[57.735859,7591.000000],[60.362820,7733.000000],[61.686390,7666.000000],[67.018562,9854.000000],[74.295883,8630.000000],[92.370796,8995.000000],[94.381409,7688.000000],[119.049179,72440.000000],[121.028793,32521.000000],[129.615707,6840.000000],[145.028488,34099.000000],[145.868332,9692.000000],[153.017929,261226.000000],[153.031601,16681.000000],[163.038544,15625.000000],[171.029327,14274.000000],[180.455566,9134.000000],[185.384735,10830.000000],[229.049652,11517.000000],[243.063828,13284.000000],[247.057205,13324.000000],[254.057114,32911.000000],[269.911987,34036.000000],[270.049805,19665.000000],[271.059753,43145464.000000],[272.214905,37273.000000]]', 'splash': 'null-null-null-null', 'submit_user': 'mwang87', 'Compound_Name': '520-36-5 CollisionEnergy:102040', 'Ion_Source': 'LC-ESI', 'Compound_Source': 'Commercial', 'Instrument': 'Orbitrap', 'PI': 'Trent Northen', 'Data_Collector': 'JGI', 'Adduct': 'M+H', 'Scan': '-1', 'Precursor_MZ': '271.06', 'ExactMass': '0.0', 'Charge': '1', 'CAS_Number': 'N/A', 'Pubmed_ID': 'N/A', 'Smiles': 'O=c1cc(-c2ccc(O)cc2)oc2cc(O)cc(O)c12', 'INCHI': '\"InChI=1S/C15H10O5/c16-9-3-1-8(2-4-9)13-7-12(19)15-11(18)5-10(17)6-14(15)20-13/h1-7,16-18H\"', 'INCHI_AUX': 'N/A', 'Library_Class': '3', 'SpectrumID': 'CCMSLIB00010106136', 'Ion_Mode': 'Positive', 'create_time': '2022-09-21 11:01:37.0', 'task_id': '3dacd5cf9c8d4c3d8596c71bf3234fbd', 'user_id': 'null', 'InChIKey_smiles': 'KZNIFHPLKGYRTM-UHFFFAOYSA-N', 'InChIKey_inchi': 'None', 'Formula_smiles': 'C15H10O5', 'Formula_inchi': '', 'url': 'https://gnps.ucsd.edu/ProteoSAFe/gnpslibraryspectrum.jsp?SpectrumID=CCMSLIB00010106136', 'annotation_history': [{'Compound_Name': '520-36-5 CollisionEnergy:102040', 'Ion_Source': 'LC-ESI', 'Compound_Source': 'Commercial', 'Instrument': 'Orbitrap', 'PI': 'Trent Northen', 'Data_Collector': 'JGI', 'Adduct': 'M+H', 'Scan': '-1', 'Precursor_MZ': '271.06', 'ExactMass': '0.0', 'Charge': '1', 'CAS_Number': 'N/A', 'Pubmed_ID': 'N/A', 'Smiles': 'O=c1cc(-c2ccc(O)cc2)oc2cc(O)cc(O)c12', 'INCHI': '\"InChI=1S/C15H10O5/c16-9-3-1-8(2-4-9)13-7-12(19)15-11(18)5-10(17)6-14(15)20-13/h1-7,16-18H\"', 'INCHI_AUX': 'N/A', 'Library_Class': '3', 'SpectrumID': 'CCMSLIB00010106136', 'Ion_Mode': 'Positive', 'create_time': '2022-09-21 11:01:37.0', 'task_id': '3dacd5cf9c8d4c3d8596c71bf3234fbd', 'user_id': 'mwang87'}], 'peaks': [[57.735859, 7591.0], [60.36282, 7733.0], [61.68639, 7666.0], [67.018562, 9854.0], [74.295883, 8630.0], [92.370796, 8995.0], [94.381409, 7688.0], [119.049179, 72440.0], [121.028793, 32521.0], [129.615707, 6840.0], [145.028488, 34099.0], [145.868332, 9692.0], [153.017929, 261226.0], [153.031601, 16681.0], [163.038544, 15625.0], [171.029327, 14274.0], [180.455566, 9134.0], [185.384735, 10830.0], [229.049652, 11517.0], [243.063828, 13284.0], [247.057205, 13324.0], [254.057114, 32911.0], [269.911987, 34036.0], [270.049805, 19665.0], [271.059753, 43145464.0], [272.214905, 37273.0]], 'precursor_mz': 271.06, 'precursor_charge': 1} {'spectrum_id': 'CCMSLIB00010105424', 'source_file': 'tharwood/spectral_libraries/BERKELEY-LAB.mgf', 'task': '3dacd5cf9c8d4c3d8596c71bf3234fbd', 'scan': '2990', 'ms_level': '2', 'library_membership': 'BERKELEY-LAB', 'spectrum_status': '1', 'peaks_json': '[[61.033829,4395.000000],[63.760429,20276.000000],[63.770741,22336.000000],[68.997429,57146.000000],[69.272530,4288.000000],[72.459877,4665.000000],[77.824959,3824.000000],[82.378967,5129.000000],[92.356468,4981.000000],[95.012833,4657.000000],[111.043701,5726.000000],[119.040077,7237.000000],[119.049042,124289.000000],[121.028442,22751.000000],[137.023071,302155.000000],[145.028275,132515.000000],[155.033966,61707.000000],[163.038391,21367.000000],[168.746353,5036.000000],[169.064636,20657.000000],[171.079102,6585.000000],[181.062302,5385.000000],[187.075241,27358.000000],[195.001404,5698.000000],[199.074844,19212.000000],[213.052048,5698.000000],[227.068970,37024.000000],[238.061996,28129.000000],[254.016815,42604.000000],[254.055511,32811.000000],[255.064636,40705264.000000],[256.119080,45006.000000]]', 'splash': 'null-null-null-null', 'submit_user': 'mwang87', 'Compound_Name': '\"7,4\\'-Dihydroxyflavone CollisionEnergy:102040\"', 'Ion_Source': 'LC-ESI', 'Compound_Source': 'Commercial', 'Instrument': 'Orbitrap', 'PI': 'Trent Northen', 'Data_Collector': 'JGI', 'Adduct': 'M+H', 'Scan': '-1', 'Precursor_MZ': '255.065', 'ExactMass': '0.0', 'Charge': '1', 'CAS_Number': 'N/A', 'Pubmed_ID': 'N/A', 'Smiles': 'O=c1cc(-c2ccc(O)cc2)oc2cc(O)ccc12', 'INCHI': '\"InChI=1S/C15H10O4/c16-10-3-1-9(2-4-10)14-8-13(18)12-6-5-11(17)7-15(12)19-14/h1-8,16-17H\"', 'INCHI_AUX': 'N/A', 'Library_Class': '3', 'SpectrumID': 'CCMSLIB00010105424', 'Ion_Mode': 'Positive', 'create_time': '2022-09-21 11:01:37.0', 'task_id': '3dacd5cf9c8d4c3d8596c71bf3234fbd', 'user_id': 'null', 'InChIKey_smiles': 'LCAWNFIFMLXZPQ-UHFFFAOYSA-N', 'InChIKey_inchi': 'None', 'Formula_smiles': 'C15H10O4', 'Formula_inchi': '', 'url': 'https://gnps.ucsd.edu/ProteoSAFe/gnpslibraryspectrum.jsp?SpectrumID=CCMSLIB00010105424', 'annotation_history': [{'Compound_Name': '\"7,4\\'-Dihydroxyflavone CollisionEnergy:102040\"', 'Ion_Source': 'LC-ESI', 'Compound_Source': 'Commercial', 'Instrument': 'Orbitrap', 'PI': 'Trent Northen', 'Data_Collector': 'JGI', 'Adduct': 'M+H', 'Scan': '-1', 'Precursor_MZ': '255.065', 'ExactMass': '0.0', 'Charge': '1', 'CAS_Number': 'N/A', 'Pubmed_ID': 'N/A', 'Smiles': 'O=c1cc(-c2ccc(O)cc2)oc2cc(O)ccc12', 'INCHI': '\"InChI=1S/C15H10O4/c16-10-3-1-9(2-4-10)14-8-13(18)12-6-5-11(17)7-15(12)19-14/h1-8,16-17H\"', 'INCHI_AUX': 'N/A', 'Library_Class': '3', 'SpectrumID': 'CCMSLIB00010105424', 'Ion_Mode': 'Positive', 'create_time': '2022-09-21 11:01:37.0', 'task_id': '3dacd5cf9c8d4c3d8596c71bf3234fbd', 'user_id': 'mwang87'}], 'peaks': [[61.033829, 4395.0], [63.760429, 20276.0], [63.770741, 22336.0], [68.997429, 57146.0], [69.27253, 4288.0], [72.459877, 4665.0], [77.824959, 3824.0], [82.378967, 5129.0], [92.356468, 4981.0], [95.012833, 4657.0], [111.043701, 5726.0], [119.040077, 7237.0], [119.049042, 124289.0], [121.028442, 22751.0], [137.023071, 302155.0], [145.028275, 132515.0], [155.033966, 61707.0], [163.038391, 21367.0], [168.746353, 5036.0], [169.064636, 20657.0], [171.079102, 6585.0], [181.062302, 5385.0], [187.075241, 27358.0], [195.001404, 5698.0], [199.074844, 19212.0], [213.052048, 5698.0], [227.06897, 37024.0], [238.061996, 28129.0], [254.016815, 42604.0], [254.055511, 32811.0], [255.064636, 40705264.0], [256.11908, 45006.0]], 'precursor_mz': 255.065, 'precursor_charge': 1}\n"
     ]
    },
    {
     "name": "stderr",
     "output_type": "stream",
     "text": [
      "\n"
     ]
    },
    {
     "ename": "Exception",
     "evalue": "error 3",
     "output_type": "error",
     "traceback": [
      "\u001b[0;31m---------------------------------------------------------------------------\u001b[0m",
      "\u001b[0;31mKeyboardInterrupt\u001b[0m                         Traceback (most recent call last)",
      "File \u001b[0;32m~/Substructure_Assignment/sharable/SiteLocator.py:228\u001b[0m, in \u001b[0;36mSiteLocator.helper_molecule\u001b[0;34m(self, helperMolData, helperMolStruct, Sirius)\u001b[0m\n\u001b[1;32m    227\u001b[0m helperSubStruct \u001b[39m=\u001b[39m Chem\u001b[39m.\u001b[39mMolFromSmiles(helperSubSmiles, sanitize\u001b[39m=\u001b[39m\u001b[39mFalse\u001b[39;00m)\n\u001b[0;32m--> 228\u001b[0m \u001b[39mfor\u001b[39;00m bond \u001b[39min\u001b[39;00m molSubStruct\u001b[39m.\u001b[39mGetBonds():\n\u001b[1;32m    229\u001b[0m     bond\u001b[39m.\u001b[39mSetBondType(Chem\u001b[39m.\u001b[39mBondType\u001b[39m.\u001b[39mSINGLE)\n",
      "\u001b[0;31mKeyboardInterrupt\u001b[0m: ",
      "\nDuring handling of the above exception, another exception occurred:\n",
      "\u001b[0;31mException\u001b[0m                                 Traceback (most recent call last)",
      "Cell \u001b[0;32mIn[11], line 27\u001b[0m\n\u001b[1;32m     26\u001b[0m \u001b[39mtry\u001b[39;00m:\n\u001b[0;32m---> 27\u001b[0m     countUpdated \u001b[39m=\u001b[39m site\u001b[39m.\u001b[39;49mhelper_molecule(data_dict_filtered[helper], data_dict_filtered[helper][\u001b[39m'\u001b[39;49m\u001b[39mSmiles\u001b[39;49m\u001b[39m'\u001b[39;49m], helperFile)\n\u001b[1;32m     28\u001b[0m     \u001b[39mif\u001b[39;00m countUpdated \u001b[39m<\u001b[39m \u001b[39m0\u001b[39m:\n",
      "File \u001b[0;32m~/Substructure_Assignment/sharable/SiteLocator.py:242\u001b[0m, in \u001b[0;36mSiteLocator.helper_molecule\u001b[0;34m(self, helperMolData, helperMolStruct, Sirius)\u001b[0m\n\u001b[1;32m    241\u001b[0m                 \u001b[39mprint\u001b[39m (\u001b[39m\"\u001b[39m\u001b[39merror\u001b[39m\u001b[39m\"\u001b[39m, molSubSmiles, helperSubSmiles, \u001b[39mself\u001b[39m\u001b[39m.\u001b[39mmolData, helperMolData)\n\u001b[0;32m--> 242\u001b[0m                 \u001b[39mraise\u001b[39;00m \u001b[39mException\u001b[39;00m(\u001b[39m\"\u001b[39m\u001b[39merror aromaticity\u001b[39m\u001b[39m\"\u001b[39m)\n\u001b[1;32m    244\u001b[0m \u001b[39m#     # print (\"shifted\", peak, posibilities, res['modifData']['peaks'][peak[0]][0], helperMolData['peaks'][peak[1]][0])\u001b[39;00m\n",
      "\u001b[0;31mException\u001b[0m: error aromaticity",
      "\nDuring handling of the above exception, another exception occurred:\n",
      "\u001b[0;31mException\u001b[0m                                 Traceback (most recent call last)",
      "Cell \u001b[0;32mIn[11], line 36\u001b[0m\n\u001b[1;32m     35\u001b[0m             traceback\u001b[39m.\u001b[39mprint_exc()\n\u001b[0;32m---> 36\u001b[0m             \u001b[39mraise\u001b[39;00m \u001b[39mException\u001b[39;00m(\u001b[39m\"\u001b[39m\u001b[39mhelper error2\u001b[39m\u001b[39m\"\u001b[39m)\n\u001b[1;32m     37\u001b[0m post_helper \u001b[39m=\u001b[39m site\u001b[39m.\u001b[39maccuracy_score(modifLoc[\u001b[39m0\u001b[39m], peak_presence_only\u001b[39m=\u001b[39mpeak_presence_only, combine\u001b[39m=\u001b[39mcombine, return_all\u001b[39m=\u001b[39m\u001b[39mTrue\u001b[39;00m)\n",
      "\u001b[0;31mException\u001b[0m: helper error2",
      "\nDuring handling of the above exception, another exception occurred:\n",
      "\u001b[0;31mException\u001b[0m                                 Traceback (most recent call last)",
      "Cell \u001b[0;32mIn[11], line 69\u001b[0m\n\u001b[1;32m     67\u001b[0m \u001b[39mimport\u001b[39;00m \u001b[39mtraceback\u001b[39;00m\n\u001b[1;32m     68\u001b[0m traceback\u001b[39m.\u001b[39mprint_exc()\n\u001b[0;32m---> 69\u001b[0m \u001b[39mraise\u001b[39;00m \u001b[39mException\u001b[39;00m(\u001b[39m\"\u001b[39m\u001b[39merror 3\u001b[39m\u001b[39m\"\u001b[39m)\n",
      "\u001b[0;31mException\u001b[0m: error 3"
     ]
    }
   ],
   "source": [
    "df2 = pd.DataFrame(columns=colums)\n",
    "count = 0\n",
    "helperDirectory = os.path.join(\"../data/libraries\",library,\"nf_output/fragmentationtrees/\")\n",
    "matches_array = list(matches[1])\n",
    "for match in tqdm(matches_array[0:10000]):\n",
    "    try:\n",
    "        m0, m1 = match\n",
    "        if data_dict_filtered[m0]['Adduct'] != data_dict_filtered[m1]['Adduct'] or data_dict_filtered[m0]['Adduct'] != \"M+H\":\n",
    "            continue\n",
    "        molMol = cachedStructures_filtered[m1]\n",
    "        modifMol = cachedStructures_filtered[m0]\n",
    "        molUsi = hn.generate_usi(m1, library)\n",
    "        modifUsi = hn.generate_usi(m0, library)\n",
    "        molSmiles = data_dict_filtered[m1]['Smiles']\n",
    "        modifSmiles = data_dict_filtered[m0]['Smiles']\n",
    "        site = modSite.SiteLocator(data_dict_filtered[m1], data_dict_filtered[m0], molSmiles)\n",
    "        modifLoc = utils.calculateModificationSites(modifMol, molMol, False)\n",
    "        peak_presence_only = False\n",
    "        combine = True\n",
    "        # calculate score\n",
    "        pre_helper = site.accuracy_score(modifLoc[0], peak_presence_only=peak_presence_only, combine=combine, return_all=True)\n",
    "        # print (\"score is:\", pre_helper['score'])\n",
    "        for helper in helpers.get(m1, []):\n",
    "            if helper != m0:\n",
    "                helperFile = json.load(open(os.path.join(helperDirectory, helper + \"_fragmentationtree.json\")))\n",
    "                try:\n",
    "                    countUpdated = site.helper_molecule(data_dict_filtered[helper], data_dict_filtered[helper]['Smiles'], helperFile)\n",
    "                    if countUpdated < 0:\n",
    "                        raise Exception(\"helper error\")\n",
    "                    post_helper = site.accuracy_score(modifLoc[0], peak_presence_only=peak_presence_only, combine=combine, return_all=True)\n",
    "                    # if pre_helper['score'] != post_helper['score']:\n",
    "                    #     print(pre_helper['score'], post_helper['score'])\n",
    "                except:\n",
    "                    import traceback\n",
    "                    traceback.print_exc()\n",
    "                    raise Exception(\"helper error2\")\n",
    "        post_helper = site.accuracy_score(modifLoc[0], peak_presence_only=peak_presence_only, combine=combine, return_all=True)\n",
    "\n",
    "        # generate random probability array 1-hot\n",
    "        prob = np.zeros(site.molMol.GetNumAtoms())\n",
    "        randInt = np.random.randint(0, site.molMol.GetNumAtoms())\n",
    "        prob[randInt] = 1\n",
    "        res2 = site.tempScore(modifLoc[0], prob, True)\n",
    "\n",
    "        # generate random probability array distribution\n",
    "        prb = np.random.rand(site.molMol.GetNumAtoms())\n",
    "        prb = prb / prb.sum()\n",
    "        res3 = site.tempScore(modifLoc[0], prb, True)\n",
    "\n",
    "        # get max score\n",
    "        maxScore = site.get_max_possible_score(modifLoc[0], peak_presence_only=peak_presence_only, combine=combine)\n",
    "        \n",
    "    # \"mol1ID\", \"mol2ID\", \"mol1smile\", \"mol2smile\", \"delta_mass\",\n",
    "    #         \"#_matched_peaks\", \"#_shifted_peaks\", \"#_unshifted_peaks\", \n",
    "    #         \"Closest_Max_Atom_Distance\", \"Count_Max\", \"Is_Max\", \"cosine\", \n",
    "    #         \"score\", \"best_score\", \"random_guess\", \"random_prob\", \"url\"\n",
    "\n",
    "        df2 = pd.concat([df2, pd.DataFrame([[molUsi, modifUsi,  molSmiles, data_dict_filtered[m0]['Smiles'], \n",
    "                                                         abs(float(data_dict_filtered[m0]['Precursor_MZ']) - float(data_dict_filtered[m1]['Precursor_MZ'])),\n",
    "                                                         len(site.matchedPeaks), len(site.shifted),  len(site.unshifted),\n",
    "                                                         pre_helper['closestMaxAtomDistance'],  pre_helper['count'],  pre_helper['isMax'], site.cosine, \n",
    "                                                        pre_helper['score'],  post_helper['score'], maxScore, res2['score'], res3['score'], \n",
    "                                                        visualizer.make_url(\"http://reza.cs.ucr.edu/\", molUsi, modifUsi, molSmiles, modifSmiles, args=None)]], columns = colums)], ignore_index=True)\n",
    "        count += 1\n",
    "    except:\n",
    "        # print stack trace\n",
    "        import traceback\n",
    "        traceback.print_exc()\n",
    "        raise Exception(\"error 3\")\n"
   ]
  },
  {
   "cell_type": "code",
   "execution_count": null,
   "metadata": {},
   "outputs": [
    {
     "name": "stderr",
     "output_type": "stream",
     "text": [
      "/tmp/ipykernel_2598396/1275229808.py:5: FutureWarning:\n",
      "\n",
      "The default value of numeric_only in DataFrameGroupBy.mean is deprecated. In a future version, numeric_only will default to False. Either specify numeric_only or select only columns which should be valid for the function.\n",
      "\n"
     ]
    },
    {
     "data": {
      "application/vnd.plotly.v1+json": {
       "config": {
        "plotlyServerURL": "https://plot.ly"
       },
       "data": [
        {
         "mode": "lines+markers",
         "name": "score",
         "type": "scatter",
         "x": [
          15.072126760563382,
          30.768461538461544,
          43.343555555555554,
          56.0136,
          69.05199999999999,
          76.35166666666666,
          null,
          100.05200000000002,
          null,
          132.05699999999996
         ],
         "y": [
          0.5558186488645143,
          0.5642021611784112,
          0.6861935553917959,
          0.679786484270468,
          0.2262363704766443,
          0.6485280541179526,
          null,
          0.26359713811572677,
          null,
          0.513417119032592
         ]
        },
        {
         "mode": "lines+markers",
         "name": "best_score",
         "type": "scatter",
         "x": [
          15.072126760563382,
          30.768461538461544,
          43.343555555555554,
          56.0136,
          69.05199999999999,
          76.35166666666666,
          null,
          100.05200000000002,
          null,
          132.05699999999996
         ],
         "y": [
          0.9061683621344642,
          0.7717299542793707,
          0.7763184884098445,
          0.8270670566473225,
          0.756708559516296,
          0.6485280541179526,
          null,
          0.26359713811572677,
          null,
          1
         ]
        },
        {
         "mode": "lines+markers",
         "name": "random_guess",
         "type": "scatter",
         "x": [
          15.072126760563382,
          30.768461538461544,
          43.343555555555554,
          56.0136,
          69.05199999999999,
          76.35166666666666,
          null,
          100.05200000000002,
          null,
          132.05699999999996
         ],
         "y": [
          0.45428412933279305,
          0.43310300266989477,
          0.7591105602777686,
          0.562569799972355,
          0.6317985690578634,
          0.586992698696015,
          null,
          0.1353352832366127,
          null,
          0.1353352832366127
         ]
        },
        {
         "mode": "lines+markers",
         "name": "random_prob",
         "type": "scatter",
         "x": [
          15.072126760563382,
          30.768461538461544,
          43.343555555555554,
          56.0136,
          69.05199999999999,
          76.35166666666666,
          null,
          100.05200000000002,
          null,
          132.05699999999996
         ],
         "y": [
          0.42662772013327727,
          0.38513119215049546,
          0.5899341852949932,
          0.47924861986547684,
          0.36787944117144233,
          0.5592218369874614,
          null,
          0.1353352832366127,
          null,
          0.06948345122280154
         ]
        },
        {
         "mode": "lines+markers",
         "name": "helper_score",
         "type": "scatter",
         "x": [
          15.072126760563382,
          30.768461538461544,
          43.343555555555554,
          56.0136,
          69.05199999999999,
          76.35166666666666,
          null,
          100.05200000000002,
          null,
          132.05699999999996
         ],
         "y": [
          0.5631156220827818,
          0.5987456564567235,
          0.6861935553917959,
          0.679786484270468,
          0.6149742148031907,
          0.6485280541179526,
          null,
          0.26359713811572677,
          null,
          0.513417119032592
         ]
        }
       ],
       "layout": {
        "showlegend": true,
        "template": {
         "data": {
          "bar": [
           {
            "error_x": {
             "color": "#2a3f5f"
            },
            "error_y": {
             "color": "#2a3f5f"
            },
            "marker": {
             "line": {
              "color": "#E5ECF6",
              "width": 0.5
             },
             "pattern": {
              "fillmode": "overlay",
              "size": 10,
              "solidity": 0.2
             }
            },
            "type": "bar"
           }
          ],
          "barpolar": [
           {
            "marker": {
             "line": {
              "color": "#E5ECF6",
              "width": 0.5
             },
             "pattern": {
              "fillmode": "overlay",
              "size": 10,
              "solidity": 0.2
             }
            },
            "type": "barpolar"
           }
          ],
          "carpet": [
           {
            "aaxis": {
             "endlinecolor": "#2a3f5f",
             "gridcolor": "white",
             "linecolor": "white",
             "minorgridcolor": "white",
             "startlinecolor": "#2a3f5f"
            },
            "baxis": {
             "endlinecolor": "#2a3f5f",
             "gridcolor": "white",
             "linecolor": "white",
             "minorgridcolor": "white",
             "startlinecolor": "#2a3f5f"
            },
            "type": "carpet"
           }
          ],
          "choropleth": [
           {
            "colorbar": {
             "outlinewidth": 0,
             "ticks": ""
            },
            "type": "choropleth"
           }
          ],
          "contour": [
           {
            "colorbar": {
             "outlinewidth": 0,
             "ticks": ""
            },
            "colorscale": [
             [
              0,
              "#0d0887"
             ],
             [
              0.1111111111111111,
              "#46039f"
             ],
             [
              0.2222222222222222,
              "#7201a8"
             ],
             [
              0.3333333333333333,
              "#9c179e"
             ],
             [
              0.4444444444444444,
              "#bd3786"
             ],
             [
              0.5555555555555556,
              "#d8576b"
             ],
             [
              0.6666666666666666,
              "#ed7953"
             ],
             [
              0.7777777777777778,
              "#fb9f3a"
             ],
             [
              0.8888888888888888,
              "#fdca26"
             ],
             [
              1,
              "#f0f921"
             ]
            ],
            "type": "contour"
           }
          ],
          "contourcarpet": [
           {
            "colorbar": {
             "outlinewidth": 0,
             "ticks": ""
            },
            "type": "contourcarpet"
           }
          ],
          "heatmap": [
           {
            "colorbar": {
             "outlinewidth": 0,
             "ticks": ""
            },
            "colorscale": [
             [
              0,
              "#0d0887"
             ],
             [
              0.1111111111111111,
              "#46039f"
             ],
             [
              0.2222222222222222,
              "#7201a8"
             ],
             [
              0.3333333333333333,
              "#9c179e"
             ],
             [
              0.4444444444444444,
              "#bd3786"
             ],
             [
              0.5555555555555556,
              "#d8576b"
             ],
             [
              0.6666666666666666,
              "#ed7953"
             ],
             [
              0.7777777777777778,
              "#fb9f3a"
             ],
             [
              0.8888888888888888,
              "#fdca26"
             ],
             [
              1,
              "#f0f921"
             ]
            ],
            "type": "heatmap"
           }
          ],
          "heatmapgl": [
           {
            "colorbar": {
             "outlinewidth": 0,
             "ticks": ""
            },
            "colorscale": [
             [
              0,
              "#0d0887"
             ],
             [
              0.1111111111111111,
              "#46039f"
             ],
             [
              0.2222222222222222,
              "#7201a8"
             ],
             [
              0.3333333333333333,
              "#9c179e"
             ],
             [
              0.4444444444444444,
              "#bd3786"
             ],
             [
              0.5555555555555556,
              "#d8576b"
             ],
             [
              0.6666666666666666,
              "#ed7953"
             ],
             [
              0.7777777777777778,
              "#fb9f3a"
             ],
             [
              0.8888888888888888,
              "#fdca26"
             ],
             [
              1,
              "#f0f921"
             ]
            ],
            "type": "heatmapgl"
           }
          ],
          "histogram": [
           {
            "marker": {
             "pattern": {
              "fillmode": "overlay",
              "size": 10,
              "solidity": 0.2
             }
            },
            "type": "histogram"
           }
          ],
          "histogram2d": [
           {
            "colorbar": {
             "outlinewidth": 0,
             "ticks": ""
            },
            "colorscale": [
             [
              0,
              "#0d0887"
             ],
             [
              0.1111111111111111,
              "#46039f"
             ],
             [
              0.2222222222222222,
              "#7201a8"
             ],
             [
              0.3333333333333333,
              "#9c179e"
             ],
             [
              0.4444444444444444,
              "#bd3786"
             ],
             [
              0.5555555555555556,
              "#d8576b"
             ],
             [
              0.6666666666666666,
              "#ed7953"
             ],
             [
              0.7777777777777778,
              "#fb9f3a"
             ],
             [
              0.8888888888888888,
              "#fdca26"
             ],
             [
              1,
              "#f0f921"
             ]
            ],
            "type": "histogram2d"
           }
          ],
          "histogram2dcontour": [
           {
            "colorbar": {
             "outlinewidth": 0,
             "ticks": ""
            },
            "colorscale": [
             [
              0,
              "#0d0887"
             ],
             [
              0.1111111111111111,
              "#46039f"
             ],
             [
              0.2222222222222222,
              "#7201a8"
             ],
             [
              0.3333333333333333,
              "#9c179e"
             ],
             [
              0.4444444444444444,
              "#bd3786"
             ],
             [
              0.5555555555555556,
              "#d8576b"
             ],
             [
              0.6666666666666666,
              "#ed7953"
             ],
             [
              0.7777777777777778,
              "#fb9f3a"
             ],
             [
              0.8888888888888888,
              "#fdca26"
             ],
             [
              1,
              "#f0f921"
             ]
            ],
            "type": "histogram2dcontour"
           }
          ],
          "mesh3d": [
           {
            "colorbar": {
             "outlinewidth": 0,
             "ticks": ""
            },
            "type": "mesh3d"
           }
          ],
          "parcoords": [
           {
            "line": {
             "colorbar": {
              "outlinewidth": 0,
              "ticks": ""
             }
            },
            "type": "parcoords"
           }
          ],
          "pie": [
           {
            "automargin": true,
            "type": "pie"
           }
          ],
          "scatter": [
           {
            "fillpattern": {
             "fillmode": "overlay",
             "size": 10,
             "solidity": 0.2
            },
            "type": "scatter"
           }
          ],
          "scatter3d": [
           {
            "line": {
             "colorbar": {
              "outlinewidth": 0,
              "ticks": ""
             }
            },
            "marker": {
             "colorbar": {
              "outlinewidth": 0,
              "ticks": ""
             }
            },
            "type": "scatter3d"
           }
          ],
          "scattercarpet": [
           {
            "marker": {
             "colorbar": {
              "outlinewidth": 0,
              "ticks": ""
             }
            },
            "type": "scattercarpet"
           }
          ],
          "scattergeo": [
           {
            "marker": {
             "colorbar": {
              "outlinewidth": 0,
              "ticks": ""
             }
            },
            "type": "scattergeo"
           }
          ],
          "scattergl": [
           {
            "marker": {
             "colorbar": {
              "outlinewidth": 0,
              "ticks": ""
             }
            },
            "type": "scattergl"
           }
          ],
          "scattermapbox": [
           {
            "marker": {
             "colorbar": {
              "outlinewidth": 0,
              "ticks": ""
             }
            },
            "type": "scattermapbox"
           }
          ],
          "scatterpolar": [
           {
            "marker": {
             "colorbar": {
              "outlinewidth": 0,
              "ticks": ""
             }
            },
            "type": "scatterpolar"
           }
          ],
          "scatterpolargl": [
           {
            "marker": {
             "colorbar": {
              "outlinewidth": 0,
              "ticks": ""
             }
            },
            "type": "scatterpolargl"
           }
          ],
          "scatterternary": [
           {
            "marker": {
             "colorbar": {
              "outlinewidth": 0,
              "ticks": ""
             }
            },
            "type": "scatterternary"
           }
          ],
          "surface": [
           {
            "colorbar": {
             "outlinewidth": 0,
             "ticks": ""
            },
            "colorscale": [
             [
              0,
              "#0d0887"
             ],
             [
              0.1111111111111111,
              "#46039f"
             ],
             [
              0.2222222222222222,
              "#7201a8"
             ],
             [
              0.3333333333333333,
              "#9c179e"
             ],
             [
              0.4444444444444444,
              "#bd3786"
             ],
             [
              0.5555555555555556,
              "#d8576b"
             ],
             [
              0.6666666666666666,
              "#ed7953"
             ],
             [
              0.7777777777777778,
              "#fb9f3a"
             ],
             [
              0.8888888888888888,
              "#fdca26"
             ],
             [
              1,
              "#f0f921"
             ]
            ],
            "type": "surface"
           }
          ],
          "table": [
           {
            "cells": {
             "fill": {
              "color": "#EBF0F8"
             },
             "line": {
              "color": "white"
             }
            },
            "header": {
             "fill": {
              "color": "#C8D4E3"
             },
             "line": {
              "color": "white"
             }
            },
            "type": "table"
           }
          ]
         },
         "layout": {
          "annotationdefaults": {
           "arrowcolor": "#2a3f5f",
           "arrowhead": 0,
           "arrowwidth": 1
          },
          "autotypenumbers": "strict",
          "coloraxis": {
           "colorbar": {
            "outlinewidth": 0,
            "ticks": ""
           }
          },
          "colorscale": {
           "diverging": [
            [
             0,
             "#8e0152"
            ],
            [
             0.1,
             "#c51b7d"
            ],
            [
             0.2,
             "#de77ae"
            ],
            [
             0.3,
             "#f1b6da"
            ],
            [
             0.4,
             "#fde0ef"
            ],
            [
             0.5,
             "#f7f7f7"
            ],
            [
             0.6,
             "#e6f5d0"
            ],
            [
             0.7,
             "#b8e186"
            ],
            [
             0.8,
             "#7fbc41"
            ],
            [
             0.9,
             "#4d9221"
            ],
            [
             1,
             "#276419"
            ]
           ],
           "sequential": [
            [
             0,
             "#0d0887"
            ],
            [
             0.1111111111111111,
             "#46039f"
            ],
            [
             0.2222222222222222,
             "#7201a8"
            ],
            [
             0.3333333333333333,
             "#9c179e"
            ],
            [
             0.4444444444444444,
             "#bd3786"
            ],
            [
             0.5555555555555556,
             "#d8576b"
            ],
            [
             0.6666666666666666,
             "#ed7953"
            ],
            [
             0.7777777777777778,
             "#fb9f3a"
            ],
            [
             0.8888888888888888,
             "#fdca26"
            ],
            [
             1,
             "#f0f921"
            ]
           ],
           "sequentialminus": [
            [
             0,
             "#0d0887"
            ],
            [
             0.1111111111111111,
             "#46039f"
            ],
            [
             0.2222222222222222,
             "#7201a8"
            ],
            [
             0.3333333333333333,
             "#9c179e"
            ],
            [
             0.4444444444444444,
             "#bd3786"
            ],
            [
             0.5555555555555556,
             "#d8576b"
            ],
            [
             0.6666666666666666,
             "#ed7953"
            ],
            [
             0.7777777777777778,
             "#fb9f3a"
            ],
            [
             0.8888888888888888,
             "#fdca26"
            ],
            [
             1,
             "#f0f921"
            ]
           ]
          },
          "colorway": [
           "#636efa",
           "#EF553B",
           "#00cc96",
           "#ab63fa",
           "#FFA15A",
           "#19d3f3",
           "#FF6692",
           "#B6E880",
           "#FF97FF",
           "#FECB52"
          ],
          "font": {
           "color": "#2a3f5f"
          },
          "geo": {
           "bgcolor": "white",
           "lakecolor": "white",
           "landcolor": "#E5ECF6",
           "showlakes": true,
           "showland": true,
           "subunitcolor": "white"
          },
          "hoverlabel": {
           "align": "left"
          },
          "hovermode": "closest",
          "mapbox": {
           "style": "light"
          },
          "paper_bgcolor": "white",
          "plot_bgcolor": "#E5ECF6",
          "polar": {
           "angularaxis": {
            "gridcolor": "white",
            "linecolor": "white",
            "ticks": ""
           },
           "bgcolor": "#E5ECF6",
           "radialaxis": {
            "gridcolor": "white",
            "linecolor": "white",
            "ticks": ""
           }
          },
          "scene": {
           "xaxis": {
            "backgroundcolor": "#E5ECF6",
            "gridcolor": "white",
            "gridwidth": 2,
            "linecolor": "white",
            "showbackground": true,
            "ticks": "",
            "zerolinecolor": "white"
           },
           "yaxis": {
            "backgroundcolor": "#E5ECF6",
            "gridcolor": "white",
            "gridwidth": 2,
            "linecolor": "white",
            "showbackground": true,
            "ticks": "",
            "zerolinecolor": "white"
           },
           "zaxis": {
            "backgroundcolor": "#E5ECF6",
            "gridcolor": "white",
            "gridwidth": 2,
            "linecolor": "white",
            "showbackground": true,
            "ticks": "",
            "zerolinecolor": "white"
           }
          },
          "shapedefaults": {
           "line": {
            "color": "#2a3f5f"
           }
          },
          "ternary": {
           "aaxis": {
            "gridcolor": "white",
            "linecolor": "white",
            "ticks": ""
           },
           "baxis": {
            "gridcolor": "white",
            "linecolor": "white",
            "ticks": ""
           },
           "bgcolor": "#E5ECF6",
           "caxis": {
            "gridcolor": "white",
            "linecolor": "white",
            "ticks": ""
           }
          },
          "title": {
           "x": 0.05
          },
          "xaxis": {
           "automargin": true,
           "gridcolor": "white",
           "linecolor": "white",
           "ticks": "",
           "title": {
            "standoff": 15
           },
           "zerolinecolor": "white",
           "zerolinewidth": 2
          },
          "yaxis": {
           "automargin": true,
           "gridcolor": "white",
           "linecolor": "white",
           "ticks": "",
           "title": {
            "standoff": 15
           },
           "zerolinecolor": "white",
           "zerolinewidth": 2
          }
         }
        },
        "title": {
         "text": "Comparison of Scores"
        },
        "xaxis": {
         "title": {
          "text": "delta_mass"
         }
        },
        "yaxis": {
         "title": {
          "text": "Score"
         }
        }
       }
      },
      "text/html": [
       "<div>                            <div id=\"6b9cc26f-cb2a-447d-9bb6-e4a2076b46c6\" class=\"plotly-graph-div\" style=\"height:525px; width:100%;\"></div>            <script type=\"text/javascript\">                require([\"plotly\"], function(Plotly) {                    window.PLOTLYENV=window.PLOTLYENV || {};                                    if (document.getElementById(\"6b9cc26f-cb2a-447d-9bb6-e4a2076b46c6\")) {                    Plotly.newPlot(                        \"6b9cc26f-cb2a-447d-9bb6-e4a2076b46c6\",                        [{\"mode\":\"lines+markers\",\"name\":\"score\",\"x\":[15.072126760563382,30.768461538461544,43.343555555555554,56.0136,69.05199999999999,76.35166666666666,null,100.05200000000002,null,132.05699999999996],\"y\":[0.5558186488645143,0.5642021611784112,0.6861935553917959,0.679786484270468,0.2262363704766443,0.6485280541179526,null,0.26359713811572677,null,0.513417119032592],\"type\":\"scatter\"},{\"mode\":\"lines+markers\",\"name\":\"best_score\",\"x\":[15.072126760563382,30.768461538461544,43.343555555555554,56.0136,69.05199999999999,76.35166666666666,null,100.05200000000002,null,132.05699999999996],\"y\":[0.9061683621344642,0.7717299542793707,0.7763184884098445,0.8270670566473225,0.756708559516296,0.6485280541179526,null,0.26359713811572677,null,1.0],\"type\":\"scatter\"},{\"mode\":\"lines+markers\",\"name\":\"random_guess\",\"x\":[15.072126760563382,30.768461538461544,43.343555555555554,56.0136,69.05199999999999,76.35166666666666,null,100.05200000000002,null,132.05699999999996],\"y\":[0.45428412933279305,0.43310300266989477,0.7591105602777686,0.562569799972355,0.6317985690578634,0.586992698696015,null,0.1353352832366127,null,0.1353352832366127],\"type\":\"scatter\"},{\"mode\":\"lines+markers\",\"name\":\"random_prob\",\"x\":[15.072126760563382,30.768461538461544,43.343555555555554,56.0136,69.05199999999999,76.35166666666666,null,100.05200000000002,null,132.05699999999996],\"y\":[0.42662772013327727,0.38513119215049546,0.5899341852949932,0.47924861986547684,0.36787944117144233,0.5592218369874614,null,0.1353352832366127,null,0.06948345122280154],\"type\":\"scatter\"},{\"mode\":\"lines+markers\",\"name\":\"helper_score\",\"x\":[15.072126760563382,30.768461538461544,43.343555555555554,56.0136,69.05199999999999,76.35166666666666,null,100.05200000000002,null,132.05699999999996],\"y\":[0.5631156220827818,0.5987456564567235,0.6861935553917959,0.679786484270468,0.6149742148031907,0.6485280541179526,null,0.26359713811572677,null,0.513417119032592],\"type\":\"scatter\"}],                        {\"template\":{\"data\":{\"histogram2dcontour\":[{\"type\":\"histogram2dcontour\",\"colorbar\":{\"outlinewidth\":0,\"ticks\":\"\"},\"colorscale\":[[0.0,\"#0d0887\"],[0.1111111111111111,\"#46039f\"],[0.2222222222222222,\"#7201a8\"],[0.3333333333333333,\"#9c179e\"],[0.4444444444444444,\"#bd3786\"],[0.5555555555555556,\"#d8576b\"],[0.6666666666666666,\"#ed7953\"],[0.7777777777777778,\"#fb9f3a\"],[0.8888888888888888,\"#fdca26\"],[1.0,\"#f0f921\"]]}],\"choropleth\":[{\"type\":\"choropleth\",\"colorbar\":{\"outlinewidth\":0,\"ticks\":\"\"}}],\"histogram2d\":[{\"type\":\"histogram2d\",\"colorbar\":{\"outlinewidth\":0,\"ticks\":\"\"},\"colorscale\":[[0.0,\"#0d0887\"],[0.1111111111111111,\"#46039f\"],[0.2222222222222222,\"#7201a8\"],[0.3333333333333333,\"#9c179e\"],[0.4444444444444444,\"#bd3786\"],[0.5555555555555556,\"#d8576b\"],[0.6666666666666666,\"#ed7953\"],[0.7777777777777778,\"#fb9f3a\"],[0.8888888888888888,\"#fdca26\"],[1.0,\"#f0f921\"]]}],\"heatmap\":[{\"type\":\"heatmap\",\"colorbar\":{\"outlinewidth\":0,\"ticks\":\"\"},\"colorscale\":[[0.0,\"#0d0887\"],[0.1111111111111111,\"#46039f\"],[0.2222222222222222,\"#7201a8\"],[0.3333333333333333,\"#9c179e\"],[0.4444444444444444,\"#bd3786\"],[0.5555555555555556,\"#d8576b\"],[0.6666666666666666,\"#ed7953\"],[0.7777777777777778,\"#fb9f3a\"],[0.8888888888888888,\"#fdca26\"],[1.0,\"#f0f921\"]]}],\"heatmapgl\":[{\"type\":\"heatmapgl\",\"colorbar\":{\"outlinewidth\":0,\"ticks\":\"\"},\"colorscale\":[[0.0,\"#0d0887\"],[0.1111111111111111,\"#46039f\"],[0.2222222222222222,\"#7201a8\"],[0.3333333333333333,\"#9c179e\"],[0.4444444444444444,\"#bd3786\"],[0.5555555555555556,\"#d8576b\"],[0.6666666666666666,\"#ed7953\"],[0.7777777777777778,\"#fb9f3a\"],[0.8888888888888888,\"#fdca26\"],[1.0,\"#f0f921\"]]}],\"contourcarpet\":[{\"type\":\"contourcarpet\",\"colorbar\":{\"outlinewidth\":0,\"ticks\":\"\"}}],\"contour\":[{\"type\":\"contour\",\"colorbar\":{\"outlinewidth\":0,\"ticks\":\"\"},\"colorscale\":[[0.0,\"#0d0887\"],[0.1111111111111111,\"#46039f\"],[0.2222222222222222,\"#7201a8\"],[0.3333333333333333,\"#9c179e\"],[0.4444444444444444,\"#bd3786\"],[0.5555555555555556,\"#d8576b\"],[0.6666666666666666,\"#ed7953\"],[0.7777777777777778,\"#fb9f3a\"],[0.8888888888888888,\"#fdca26\"],[1.0,\"#f0f921\"]]}],\"surface\":[{\"type\":\"surface\",\"colorbar\":{\"outlinewidth\":0,\"ticks\":\"\"},\"colorscale\":[[0.0,\"#0d0887\"],[0.1111111111111111,\"#46039f\"],[0.2222222222222222,\"#7201a8\"],[0.3333333333333333,\"#9c179e\"],[0.4444444444444444,\"#bd3786\"],[0.5555555555555556,\"#d8576b\"],[0.6666666666666666,\"#ed7953\"],[0.7777777777777778,\"#fb9f3a\"],[0.8888888888888888,\"#fdca26\"],[1.0,\"#f0f921\"]]}],\"mesh3d\":[{\"type\":\"mesh3d\",\"colorbar\":{\"outlinewidth\":0,\"ticks\":\"\"}}],\"scatter\":[{\"fillpattern\":{\"fillmode\":\"overlay\",\"size\":10,\"solidity\":0.2},\"type\":\"scatter\"}],\"parcoords\":[{\"type\":\"parcoords\",\"line\":{\"colorbar\":{\"outlinewidth\":0,\"ticks\":\"\"}}}],\"scatterpolargl\":[{\"type\":\"scatterpolargl\",\"marker\":{\"colorbar\":{\"outlinewidth\":0,\"ticks\":\"\"}}}],\"bar\":[{\"error_x\":{\"color\":\"#2a3f5f\"},\"error_y\":{\"color\":\"#2a3f5f\"},\"marker\":{\"line\":{\"color\":\"#E5ECF6\",\"width\":0.5},\"pattern\":{\"fillmode\":\"overlay\",\"size\":10,\"solidity\":0.2}},\"type\":\"bar\"}],\"scattergeo\":[{\"type\":\"scattergeo\",\"marker\":{\"colorbar\":{\"outlinewidth\":0,\"ticks\":\"\"}}}],\"scatterpolar\":[{\"type\":\"scatterpolar\",\"marker\":{\"colorbar\":{\"outlinewidth\":0,\"ticks\":\"\"}}}],\"histogram\":[{\"marker\":{\"pattern\":{\"fillmode\":\"overlay\",\"size\":10,\"solidity\":0.2}},\"type\":\"histogram\"}],\"scattergl\":[{\"type\":\"scattergl\",\"marker\":{\"colorbar\":{\"outlinewidth\":0,\"ticks\":\"\"}}}],\"scatter3d\":[{\"type\":\"scatter3d\",\"line\":{\"colorbar\":{\"outlinewidth\":0,\"ticks\":\"\"}},\"marker\":{\"colorbar\":{\"outlinewidth\":0,\"ticks\":\"\"}}}],\"scattermapbox\":[{\"type\":\"scattermapbox\",\"marker\":{\"colorbar\":{\"outlinewidth\":0,\"ticks\":\"\"}}}],\"scatterternary\":[{\"type\":\"scatterternary\",\"marker\":{\"colorbar\":{\"outlinewidth\":0,\"ticks\":\"\"}}}],\"scattercarpet\":[{\"type\":\"scattercarpet\",\"marker\":{\"colorbar\":{\"outlinewidth\":0,\"ticks\":\"\"}}}],\"carpet\":[{\"aaxis\":{\"endlinecolor\":\"#2a3f5f\",\"gridcolor\":\"white\",\"linecolor\":\"white\",\"minorgridcolor\":\"white\",\"startlinecolor\":\"#2a3f5f\"},\"baxis\":{\"endlinecolor\":\"#2a3f5f\",\"gridcolor\":\"white\",\"linecolor\":\"white\",\"minorgridcolor\":\"white\",\"startlinecolor\":\"#2a3f5f\"},\"type\":\"carpet\"}],\"table\":[{\"cells\":{\"fill\":{\"color\":\"#EBF0F8\"},\"line\":{\"color\":\"white\"}},\"header\":{\"fill\":{\"color\":\"#C8D4E3\"},\"line\":{\"color\":\"white\"}},\"type\":\"table\"}],\"barpolar\":[{\"marker\":{\"line\":{\"color\":\"#E5ECF6\",\"width\":0.5},\"pattern\":{\"fillmode\":\"overlay\",\"size\":10,\"solidity\":0.2}},\"type\":\"barpolar\"}],\"pie\":[{\"automargin\":true,\"type\":\"pie\"}]},\"layout\":{\"autotypenumbers\":\"strict\",\"colorway\":[\"#636efa\",\"#EF553B\",\"#00cc96\",\"#ab63fa\",\"#FFA15A\",\"#19d3f3\",\"#FF6692\",\"#B6E880\",\"#FF97FF\",\"#FECB52\"],\"font\":{\"color\":\"#2a3f5f\"},\"hovermode\":\"closest\",\"hoverlabel\":{\"align\":\"left\"},\"paper_bgcolor\":\"white\",\"plot_bgcolor\":\"#E5ECF6\",\"polar\":{\"bgcolor\":\"#E5ECF6\",\"angularaxis\":{\"gridcolor\":\"white\",\"linecolor\":\"white\",\"ticks\":\"\"},\"radialaxis\":{\"gridcolor\":\"white\",\"linecolor\":\"white\",\"ticks\":\"\"}},\"ternary\":{\"bgcolor\":\"#E5ECF6\",\"aaxis\":{\"gridcolor\":\"white\",\"linecolor\":\"white\",\"ticks\":\"\"},\"baxis\":{\"gridcolor\":\"white\",\"linecolor\":\"white\",\"ticks\":\"\"},\"caxis\":{\"gridcolor\":\"white\",\"linecolor\":\"white\",\"ticks\":\"\"}},\"coloraxis\":{\"colorbar\":{\"outlinewidth\":0,\"ticks\":\"\"}},\"colorscale\":{\"sequential\":[[0.0,\"#0d0887\"],[0.1111111111111111,\"#46039f\"],[0.2222222222222222,\"#7201a8\"],[0.3333333333333333,\"#9c179e\"],[0.4444444444444444,\"#bd3786\"],[0.5555555555555556,\"#d8576b\"],[0.6666666666666666,\"#ed7953\"],[0.7777777777777778,\"#fb9f3a\"],[0.8888888888888888,\"#fdca26\"],[1.0,\"#f0f921\"]],\"sequentialminus\":[[0.0,\"#0d0887\"],[0.1111111111111111,\"#46039f\"],[0.2222222222222222,\"#7201a8\"],[0.3333333333333333,\"#9c179e\"],[0.4444444444444444,\"#bd3786\"],[0.5555555555555556,\"#d8576b\"],[0.6666666666666666,\"#ed7953\"],[0.7777777777777778,\"#fb9f3a\"],[0.8888888888888888,\"#fdca26\"],[1.0,\"#f0f921\"]],\"diverging\":[[0,\"#8e0152\"],[0.1,\"#c51b7d\"],[0.2,\"#de77ae\"],[0.3,\"#f1b6da\"],[0.4,\"#fde0ef\"],[0.5,\"#f7f7f7\"],[0.6,\"#e6f5d0\"],[0.7,\"#b8e186\"],[0.8,\"#7fbc41\"],[0.9,\"#4d9221\"],[1,\"#276419\"]]},\"xaxis\":{\"gridcolor\":\"white\",\"linecolor\":\"white\",\"ticks\":\"\",\"title\":{\"standoff\":15},\"zerolinecolor\":\"white\",\"automargin\":true,\"zerolinewidth\":2},\"yaxis\":{\"gridcolor\":\"white\",\"linecolor\":\"white\",\"ticks\":\"\",\"title\":{\"standoff\":15},\"zerolinecolor\":\"white\",\"automargin\":true,\"zerolinewidth\":2},\"scene\":{\"xaxis\":{\"backgroundcolor\":\"#E5ECF6\",\"gridcolor\":\"white\",\"linecolor\":\"white\",\"showbackground\":true,\"ticks\":\"\",\"zerolinecolor\":\"white\",\"gridwidth\":2},\"yaxis\":{\"backgroundcolor\":\"#E5ECF6\",\"gridcolor\":\"white\",\"linecolor\":\"white\",\"showbackground\":true,\"ticks\":\"\",\"zerolinecolor\":\"white\",\"gridwidth\":2},\"zaxis\":{\"backgroundcolor\":\"#E5ECF6\",\"gridcolor\":\"white\",\"linecolor\":\"white\",\"showbackground\":true,\"ticks\":\"\",\"zerolinecolor\":\"white\",\"gridwidth\":2}},\"shapedefaults\":{\"line\":{\"color\":\"#2a3f5f\"}},\"annotationdefaults\":{\"arrowcolor\":\"#2a3f5f\",\"arrowhead\":0,\"arrowwidth\":1},\"geo\":{\"bgcolor\":\"white\",\"landcolor\":\"#E5ECF6\",\"subunitcolor\":\"white\",\"showland\":true,\"showlakes\":true,\"lakecolor\":\"white\"},\"title\":{\"x\":0.05},\"mapbox\":{\"style\":\"light\"}}},\"title\":{\"text\":\"Comparison of Scores\"},\"xaxis\":{\"title\":{\"text\":\"delta_mass\"}},\"yaxis\":{\"title\":{\"text\":\"Score\"}},\"showlegend\":true},                        {\"responsive\": true}                    ).then(function(){\n",
       "                            \n",
       "var gd = document.getElementById('6b9cc26f-cb2a-447d-9bb6-e4a2076b46c6');\n",
       "var x = new MutationObserver(function (mutations, observer) {{\n",
       "        var display = window.getComputedStyle(gd).display;\n",
       "        if (!display || display === 'none') {{\n",
       "            console.log([gd, 'removed!']);\n",
       "            Plotly.purge(gd);\n",
       "            observer.disconnect();\n",
       "        }}\n",
       "}});\n",
       "\n",
       "// Listen for the removal of the full notebook cells\n",
       "var notebookContainer = gd.closest('#notebook-container');\n",
       "if (notebookContainer) {{\n",
       "    x.observe(notebookContainer, {childList: true});\n",
       "}}\n",
       "\n",
       "// Listen for the clearing of the current output cell\n",
       "var outputEl = gd.closest('.output');\n",
       "if (outputEl) {{\n",
       "    x.observe(outputEl, {childList: true});\n",
       "}}\n",
       "\n",
       "                        })                };                });            </script>        </div>"
      ]
     },
     "metadata": {},
     "output_type": "display_data"
    }
   ],
   "source": [
    "# Bin the data by delta_mass into discrete bins\n",
    "df2['delta_mass_bin'] = pd.cut(df2['delta_mass'], bins=10)\n",
    "\n",
    "# Calculate the average for each bin\n",
    "df_grouped2 = df2.groupby('delta_mass_bin').mean().reset_index()\n",
    "\n",
    "\n",
    "# Create the plot\n",
    "fig = go.Figure()\n",
    "\n",
    "# Add scatter plot for each column\n",
    "columns = [\"score\", \"best_score\", \"random_guess\", \"random_prob\", \"helper_score\"]\n",
    "for col in columns:\n",
    "    fig.add_trace(go.Scatter(x=df_grouped2[\"delta_mass\"], y=df_grouped2[col], mode='lines+markers', name=col))\n",
    "\n",
    "# Customize the plot\n",
    "fig.update_layout(\n",
    "    title=\"Comparison of Scores\",\n",
    "    xaxis_title=\"delta_mass\",\n",
    "    yaxis_title=\"Score\",\n",
    "    showlegend=True,\n",
    ")\n",
    "\n",
    "# Show the plot\n",
    "fig.show()\n"
   ]
  },
  {
   "cell_type": "code",
   "execution_count": 13,
   "metadata": {},
   "outputs": [
    {
     "name": "stdout",
     "output_type": "stream",
     "text": [
      "count    601.000000\n",
      "mean       0.652115\n",
      "std        0.426481\n",
      "min        0.000000\n",
      "25%        0.188876\n",
      "50%        1.000000\n",
      "75%        1.000000\n",
      "max        1.000000\n",
      "Name: score, dtype: float64\n",
      "count    601.000000\n",
      "mean       0.551007\n",
      "std        0.311003\n",
      "min        0.000000\n",
      "25%        0.263597\n",
      "50%        0.513417\n",
      "75%        0.716531\n",
      "max        1.000000\n",
      "Name: score, dtype: float64\n"
     ]
    }
   ],
   "source": [
    "print(df['score'].describe())\n",
    "print(df2['score'].describe())"
   ]
  },
  {
   "cell_type": "code",
   "execution_count": null,
   "metadata": {},
   "outputs": [],
   "source": [
    "m1 = Chem.MolFromSmiles(\"N=C(O)CSc1nc2ncnc(O)c2n1\", sanitize=False)\n",
    "# make all bonds single\n",
    "# for bond in m1.GetBonds():\n",
    "    # bond.SetBondType(Chem.rdchem.BondType.SINGLE)\n",
    "m1"
   ]
  },
  {
   "cell_type": "code",
   "execution_count": null,
   "metadata": {},
   "outputs": [],
   "source": [
    "x1 = Chem.MolFromSmiles(\"COc1ccc(Cl)cc1N=C(O)CSc1nc2c(O)ncnc2n1C\")\n",
    "x1"
   ]
  },
  {
   "cell_type": "code",
   "execution_count": null,
   "metadata": {},
   "outputs": [],
   "source": [
    "x1.HasSubstructMatch(m1)"
   ]
  },
  {
   "cell_type": "code",
   "execution_count": null,
   "metadata": {},
   "outputs": [],
   "source": [
    "m2 = Chem.MolFromSmiles(\"Cn1c(SCCO)nc2c(O)ncnc21\", sanitize=False)\n",
    "m2"
   ]
  },
  {
   "cell_type": "code",
   "execution_count": null,
   "metadata": {},
   "outputs": [],
   "source": [
    "x2 = Chem.MolFromSmiles(\"COc1ccccc1N=C(O)CSc1nc2c(O)ncnc2n1C\")"
   ]
  }
 ],
 "metadata": {
  "kernelspec": {
   "display_name": "Python 3",
   "language": "python",
   "name": "python3"
  },
  "language_info": {
   "codemirror_mode": {
    "name": "ipython",
    "version": 3
   },
   "file_extension": ".py",
   "mimetype": "text/x-python",
   "name": "python",
   "nbconvert_exporter": "python",
   "pygments_lexer": "ipython3",
   "version": "3.9.15"
  },
  "orig_nbformat": 4,
  "vscode": {
   "interpreter": {
    "hash": "7a242d331d223da5d871e1cdf329adda4e96513ea8a01e2c8588a28f94459dfa"
   }
  }
 },
 "nbformat": 4,
 "nbformat_minor": 2
}
