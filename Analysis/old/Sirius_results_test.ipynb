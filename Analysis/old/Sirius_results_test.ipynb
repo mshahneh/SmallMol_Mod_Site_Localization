{
 "cells": [
  {
   "cell_type": "code",
   "execution_count": 2,
   "metadata": {},
   "outputs": [],
   "source": [
    "import os\n",
    "import sys\n",
    "import json\n",
    "import pickle\n",
    "import pandas as pd"
   ]
  },
  {
   "cell_type": "code",
   "execution_count": 3,
   "metadata": {},
   "outputs": [
    {
     "name": "stdout",
     "output_type": "stream",
     "text": [
      "7968\n"
     ]
    }
   ],
   "source": [
    "# list all the files in the directory\n",
    "directory = \"../data/libraries/BERKELEY-LAB/nf_output/fragmentationtrees/\"\n",
    "files = os.listdir(directory)\n",
    "print (len(files))"
   ]
  },
  {
   "cell_type": "code",
   "execution_count": 4,
   "metadata": {},
   "outputs": [],
   "source": [
    "with open(os.path.join(\"../data/libraries/BERKELEY-LAB/data_dict_filtered.pkl\"), \"rb\") as f:\n",
    "    data_dict_filtered = pickle.load(f)"
   ]
  },
  {
   "cell_type": "code",
   "execution_count": 14,
   "metadata": {},
   "outputs": [
    {
     "name": "stdout",
     "output_type": "stream",
     "text": [
      "{'spectrum_id': 'CCMSLIB00010112368', 'source_file': 'tharwood/spectral_libraries/BERKELEY-LAB.mgf', 'task': '3dacd5cf9c8d4c3d8596c71bf3234fbd', 'scan': '9934', 'ms_level': '2', 'library_membership': 'BERKELEY-LAB', 'spectrum_status': '1', 'peaks_json': '[[82.389229,4067.000000],[97.653358,3396.000000],[98.701729,3064.000000],[104.272476,4583.000000],[118.642662,3786.000000],[127.181679,3824.000000],[132.433853,3219.000000],[157.955811,3995.000000],[212.081497,76441.000000],[213.090424,34772.000000],[216.058289,5102.000000],[230.038010,60683.000000],[244.053558,590029.000000],[256.041077,4010.000000],[257.048615,173171.000000],[262.063873,44844.000000],[271.064362,1760259.000000],[299.059265,5541474.000000],[354.633240,4181.000000],[442.095490,13629.000000],[460.104309,1523141.000000]]', 'splash': 'null-null-null-null', 'submit_user': 'mwang87', 'Compound_Name': '2-[9-(4-methylphenyl)-6-oxohydropurin-8-ylthio]-N-[3-(trifluoromethyl)phenyl]a cetamide CollisionEnergy:102040', 'Ion_Source': 'LC-ESI', 'Compound_Source': 'Commercial', 'Instrument': 'Orbitrap', 'PI': 'Trent Northen', 'Data_Collector': 'JGI', 'Adduct': 'M+H', 'Scan': '-1', 'Precursor_MZ': '460.105', 'ExactMass': '0.0', 'Charge': '1', 'CAS_Number': 'N/A', 'Pubmed_ID': 'N/A', 'Smiles': 'Cc1ccc(-n2c(SCC(O)=Nc3cccc(C(F)(F)F)c3)nc3c(O)ncnc32)cc1', 'INCHI': '\"InChI=1S/C21H16F3N5O2S/c1-12-5-7-15(8-6-12)29-18-17(19(31)26-11-25-18)28-20(29)32-10-16(30)27-14-4-2-3-13(9-14)21(22,23)24/h2-9,11H,10H2,1H3,(H,27,30)(H,25,26,31)\"', 'INCHI_AUX': 'N/A', 'Library_Class': '3', 'SpectrumID': 'CCMSLIB00010112368', 'Ion_Mode': 'Positive', 'create_time': '2022-09-21 11:01:37.0', 'task_id': '3dacd5cf9c8d4c3d8596c71bf3234fbd', 'user_id': 'null', 'InChIKey_smiles': 'GKWNPGRKPARHRV-UHFFFAOYSA-N', 'InChIKey_inchi': 'None', 'Formula_smiles': 'C21H16F3N5O2S', 'Formula_inchi': '', 'url': 'https://gnps.ucsd.edu/ProteoSAFe/gnpslibraryspectrum.jsp?SpectrumID=CCMSLIB00010112368', 'annotation_history': [{'Compound_Name': '2-[9-(4-methylphenyl)-6-oxohydropurin-8-ylthio]-N-[3-(trifluoromethyl)phenyl]a cetamide CollisionEnergy:102040', 'Ion_Source': 'LC-ESI', 'Compound_Source': 'Commercial', 'Instrument': 'Orbitrap', 'PI': 'Trent Northen', 'Data_Collector': 'JGI', 'Adduct': 'M+H', 'Scan': '-1', 'Precursor_MZ': '460.105', 'ExactMass': '0.0', 'Charge': '1', 'CAS_Number': 'N/A', 'Pubmed_ID': 'N/A', 'Smiles': 'Cc1ccc(-n2c(SCC(O)=Nc3cccc(C(F)(F)F)c3)nc3c(O)ncnc32)cc1', 'INCHI': '\"InChI=1S/C21H16F3N5O2S/c1-12-5-7-15(8-6-12)29-18-17(19(31)26-11-25-18)28-20(29)32-10-16(30)27-14-4-2-3-13(9-14)21(22,23)24/h2-9,11H,10H2,1H3,(H,27,30)(H,25,26,31)\"', 'INCHI_AUX': 'N/A', 'Library_Class': '3', 'SpectrumID': 'CCMSLIB00010112368', 'Ion_Mode': 'Positive', 'create_time': '2022-09-21 11:01:37.0', 'task_id': '3dacd5cf9c8d4c3d8596c71bf3234fbd', 'user_id': 'mwang87'}]}\n"
     ]
    }
   ],
   "source": [
    "# get one instance of the dictionary\n",
    "print (data_dict_filtered[files[0].split('_')[0]])"
   ]
  },
  {
   "cell_type": "code",
   "execution_count": 42,
   "metadata": {},
   "outputs": [],
   "source": [
    "def binary_search_fragments(fragments, search_mz, threshold):\n",
    "    # Binary search implementation\n",
    "    left = 0\n",
    "    right = len(fragments)\n",
    "\n",
    "    while left < right:\n",
    "        mid = (left + right) // 2\n",
    "        mz = fragments[mid]['mz']\n",
    "        # print (left, right, mid, mz, search_mz)\n",
    "        diff = abs(mz - search_mz)\n",
    "        if right - left == 1:\n",
    "            if diff <= threshold:\n",
    "                return left\n",
    "            else:\n",
    "                return -1\n",
    "        elif mz >= search_mz:\n",
    "            left = mid\n",
    "        else:\n",
    "            right = mid\n",
    "\n",
    "    return -1  # Return -1 if fragment not found"
   ]
  },
  {
   "cell_type": "code",
   "execution_count": 55,
   "metadata": {},
   "outputs": [],
   "source": [
    "min = 100000\n",
    "max = 0\n",
    "average = 0\n",
    "df = pd.DataFrame(columns=['file', 'fragment_count', 'score', 'peak_found'])\n",
    "for file in files:\n",
    "    id = file.split('_')[0]\n",
    "    try:\n",
    "        peaks = json.loads(data_dict_filtered[id]['peaks_json'])\n",
    "    except:\n",
    "        continue\n",
    "    data = json.load(open(os.path.join(directory, file)))\n",
    "    count = 0\n",
    "    for fragment in data['fragments']:\n",
    "        count += 1\n",
    "        if len(fragment['peaks']) > 1:\n",
    "            print (file, fragment)\n",
    "        score = fragment['score']\n",
    "\n",
    "    peakFound = 0\n",
    "    for peak in peaks:\n",
    "        if binary_search_fragments(data['fragments'], peak[0], 0.0000001) != -1:\n",
    "            peakFound += 1\n",
    "    if peakFound == 0:\n",
    "        print (file, id)\n",
    "\n",
    "\n",
    "    df = pd.concat([df, pd.DataFrame([[id, float(count), score, float(peakFound)]], columns=['file', 'fragment_count', 'score', 'peak_found'])])"
   ]
  },
  {
   "cell_type": "code",
   "execution_count": 41,
   "metadata": {},
   "outputs": [
    {
     "name": "stdout",
     "output_type": "stream",
     "text": [
      "0 9 4 359.075348 417.11734\n",
      "0 4 2 375.106842 417.11734\n",
      "0 2 1 417.11734 417.11734\n",
      "1 2 1 417.11734 417.11734\n"
     ]
    },
    {
     "data": {
      "text/plain": [
       "1"
      ]
     },
     "execution_count": 41,
     "metadata": {},
     "output_type": "execute_result"
    }
   ],
   "source": [
    "binary_search_fragments(data['fragments'], 417.11734, 0.1)"
   ]
  },
  {
   "cell_type": "code",
   "execution_count": 49,
   "metadata": {},
   "outputs": [
    {
     "name": "stdout",
     "output_type": "stream",
     "text": [
      "[459.127625, 417.11734, 375.106842, 360.083313, 359.075348, 345.059906, 342.072845, 317.065125, 314.07843]\n",
      "459.127625 0\n",
      "419.326996 -1\n",
      "417.11734 1\n",
      "416.107269 -1\n",
      "414.921661 -1\n",
      "402.093384 -1\n",
      "375.106842 2\n",
      "374.094604 -1\n",
      "373.233398 -1\n",
      "373.094147 -1\n",
      "360.083313 3\n",
      "359.075348 4\n",
      "357.099091 -1\n",
      "345.059906 5\n",
      "343.079651 -1\n",
      "342.072845 6\n",
      "341.06485 -1\n",
      "331.07843 -1\n",
      "329.066162 -1\n",
      "327.049286 -1\n",
      "325.07019 -1\n",
      "324.061798 -1\n",
      "317.105286 -1\n",
      "317.065125 7\n",
      "315.088104 -1\n",
      "314.07843 8\n",
      "313.070831 -1\n",
      "312.061646 -1\n",
      "311.054596 -1\n",
      "310.045685 -1\n",
      "299.053345 -1\n",
      "296.068939 -1\n",
      "285.075012 -1\n",
      "274.440582 -1\n",
      "151.038925 -1\n",
      "143.204956 -1\n",
      "118.648514 -1\n",
      "92.37162 -1\n",
      "82.393227 -1\n",
      "73.948357 -1\n",
      "11\n"
     ]
    }
   ],
   "source": [
    "id\n",
    "data = json.load(open(os.path.join(directory, file)))\n",
    "peaks = json.loads(data_dict_filtered[id]['peaks_json'])\n",
    "# print in reverse order\n",
    "peaks.sort(key=lambda x: x[0], reverse=True)\n",
    "print ([fragment['mz'] for fragment in data['fragments']])\n",
    "peakFound\n",
    "for peak in peaks:\n",
    "    if binary_search_fragments(data['fragments'], peak[0], 0.1) != -1:\n",
    "        peakFound += 1\n",
    "    print (peak[0], binary_search_fragments(data['fragments'], peak[0], 0.1))\n",
    "print (peakFound)"
   ]
  },
  {
   "cell_type": "code",
   "execution_count": 56,
   "metadata": {},
   "outputs": [
    {
     "name": "stdout",
     "output_type": "stream",
     "text": [
      "                      file  fragment_count        score   peak_found\n",
      "count                 4101     4101.000000  4101.000000  4101.000000\n",
      "unique                4101             NaN          NaN          NaN\n",
      "top     CCMSLIB00010112368             NaN          NaN          NaN\n",
      "freq                     1             NaN          NaN          NaN\n",
      "mean                   NaN       18.381370     3.065446    18.290173\n",
      "std                    NaN       14.898482     2.914729    14.923845\n",
      "min                    NaN        1.000000    -0.615768     1.000000\n",
      "25%                    NaN        7.000000     1.344323     7.000000\n",
      "50%                    NaN       15.000000     2.213368    14.000000\n",
      "75%                    NaN       24.000000     3.757105    24.000000\n",
      "max                    NaN       60.000000    18.612715    60.000000\n"
     ]
    }
   ],
   "source": [
    "# print stats about dataframe\n",
    "print (df.describe(include='all'))"
   ]
  }
 ],
 "metadata": {
  "kernelspec": {
   "display_name": "Python 3",
   "language": "python",
   "name": "python3"
  },
  "language_info": {
   "codemirror_mode": {
    "name": "ipython",
    "version": 3
   },
   "file_extension": ".py",
   "mimetype": "text/x-python",
   "name": "python",
   "nbconvert_exporter": "python",
   "pygments_lexer": "ipython3",
   "version": "3.9.15"
  },
  "orig_nbformat": 4
 },
 "nbformat": 4,
 "nbformat_minor": 2
}
