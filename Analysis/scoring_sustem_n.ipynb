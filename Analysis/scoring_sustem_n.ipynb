{
 "cells": [
  {
   "cell_type": "code",
   "execution_count": 1,
   "metadata": {},
   "outputs": [],
   "source": [
    "from urllib.request import urlopen\n",
    "from IPython.display import SVG\n",
    "import matplotlib.pyplot as plt\n",
    "from rdkit import Chem\n",
    "from tqdm import tqdm\n",
    "import pandas as pd\n",
    "import xlsxwriter\n",
    "import argparse\n",
    "import pickle\n",
    "import numpy as np\n",
    "import json\n",
    "\n",
    "import os\n",
    "import sys\n",
    "module_path = os.path.abspath(os.path.join('..'))\n",
    "if module_path not in sys.path:\n",
    "    sys.path.append(module_path)\n",
    "\n",
    "import visualizer as visualizer\n",
    "import utils as utils\n",
    "import handle_network as hn\n",
    "import fragmentation_py as fragmentation_py\n",
    "import library_downloader as library_downloader\n",
    "import Compound_n as Compound_n\n",
    "import ModificationSiteLocator as modSite\n",
    "\n",
    "import math\n",
    "import multiprocessing as mp\n",
    "from multiprocessing import Pool"
   ]
  },
  {
   "cell_type": "code",
   "execution_count": 2,
   "metadata": {},
   "outputs": [],
   "source": [
    "\n",
    "libraries = {\n",
    "    \"GNPS-MSMLS\": \"https://external.gnps2.org/gnpslibrary/GNPS-MSMLS.json\",\n",
    "    \"GNPS-NIH-NATURALPRODUCTSLIBRARY_ROUND2_POSITIVE\": \"https://external.gnps2.org/gnpslibrary/GNPS-NIH-NATURALPRODUCTSLIBRARY_ROUND2_POSITIVE.json\",\n",
    "    \"GNPS-NIH-SMALLMOLECULEPHARMACOLOGICALLYACTIVE\": \"https://external.gnps2.org/gnpslibrary/GNPS-NIH-SMALLMOLECULEPHARMACOLOGICALLYACTIVE.json\",\n",
    "    \"MIADB\": \"https://external.gnps2.org/gnpslibrary/MIADB.json\",\n",
    "    \"BERKELEY-LAB\": \"https://external.gnps2.org/gnpslibrary/BERKELEY-LAB.json\"\n",
    "    # \"GNPS-LIBRARY\": \"https://gnps-external.ucsd.edu/gnpslibrary/GNPS-LIBRARY.json\"\n",
    "}\n",
    "\n",
    "library =\"BERKELEY-LAB\"\n",
    "if not os.path.exists( os.path.join(\"../data/libraries\", library)):\n",
    "    url = \"https://gnps-external.ucsd.edu/gnpslibrary/\" + library + \".json\"\n",
    "    location = \"../data/libraries/\" + library + \"/\"\n",
    "    library_downloader.download(url, location, 0.5, 0.1)\n",
    "\n",
    "with open(os.path.join(\"../data/libraries\", library, \"data_dict_filtered.pkl\"), \"rb\") as f:\n",
    "    data_dict_filtered = pickle.load(f)\n",
    "\n",
    "# load matches\n",
    "with open(os.path.join(\"../data/libraries\", library, \"matches.pkl\"), \"rb\") as f:\n",
    "    matches = pickle.load(f)\n",
    "\n",
    "# load cachedStructures_filtered\n",
    "with open(os.path.join(\"../data/libraries\", library, \"cachedStructures.pkl\"), \"rb\") as f:\n",
    "    cachedStructures_filtered = pickle.load(f)\n",
    "\n",
    "helperDirectory = os.path.join(\"../data/libraries\",library,\"nf_output/fragmentationtrees/\")\n",
    "helpers = dict()\n",
    "\n",
    "filter_matches = []\n",
    "for match in matches[1]:\n",
    "    if \"M+H\" not in data_dict_filtered[match[0]][\"Adduct\"] or \"M+H\" not in data_dict_filtered[match[1]][\"Adduct\"]:\n",
    "        continue\n",
    "    filter_matches.append(match)\n",
    "\n",
    "for match in filter_matches:\n",
    "    if match[0] not in helpers:\n",
    "        helpers[match[0]] = []\n",
    "    helpers[match[0]].append(match[1])"
   ]
  },
  {
   "cell_type": "code",
   "execution_count": 15,
   "metadata": {},
   "outputs": [],
   "source": [
    "def calculate_score(m0, m1):\n",
    "    mainStructure = cachedStructures_filtered[m1]\n",
    "    modifiedStructure = cachedStructures_filtered[m0]\n",
    "    main_compound = Compound_n.Compound(data_dict_filtered[m1], mainStructure)\n",
    "    modified_compound = Compound_n.Compound(data_dict_filtered[m0], modifiedStructure)\n",
    "    site_locator = modSite.ModificationSiteLocator(main_compound, modified_compound)\n",
    "\n",
    "    probab = site_locator.generate_probabilities(shifted_only = True, PPO = True, CO = False, true_modification_site = None)\n",
    "    modifLoc = utils.calculateModificationSites(modifiedStructure, mainStructure, False)[0]\n",
    "    score = site_locator.calculate_score(modifLoc, \"is_max\", probab)\n",
    "    if score == 1:\n",
    "        print(probab)\n",
    "    return score\n",
    "\n"
   ]
  },
  {
   "cell_type": "code",
   "execution_count": 18,
   "metadata": {},
   "outputs": [
    {
     "name": "stderr",
     "output_type": "stream",
     "text": [
      "/home/user/Substructure_Assignment/sharable/ModificationSiteLocator.py:80: RuntimeWarning: invalid value encountered in divide\n",
      "  probabilities = probabilities / np.sum(probabilities)\n"
     ]
    }
   ],
   "source": [
    "\n",
    "for i in range(230, len(filter_matches)):\n",
    "    try:\n",
    "        usi1 = \"mzspec:GNPS:\" + library + \":accession:\" + filter_matches[0][0]\n",
    "        usi2 = \"mzspec:GNPS:\" + library + \":accession:\" + filter_matches[0][1]\n",
    "        smiles1 = data_dict_filtered[filter_matches[i][0]][\"Smiles\"]\n",
    "        smiles2 = data_dict_filtered[filter_matches[i][1]][\"Smiles\"]\n",
    "        # print(usi1, usi2, smiles1, smiles2)\n",
    "        s = calculate_score(filter_matches[i][0], filter_matches[i][1])\n",
    "        if s == 1:\n",
    "            print(usi2, usi1, smiles2, smiles1, s)\n",
    "            break\n",
    "    except:\n",
    "        continue"
   ]
  },
  {
   "cell_type": "code",
   "execution_count": null,
   "metadata": {},
   "outputs": [],
   "source": []
  }
 ],
 "metadata": {
  "kernelspec": {
   "display_name": "Python 3",
   "language": "python",
   "name": "python3"
  },
  "language_info": {
   "codemirror_mode": {
    "name": "ipython",
    "version": 3
   },
   "file_extension": ".py",
   "mimetype": "text/x-python",
   "name": "python",
   "nbconvert_exporter": "python",
   "pygments_lexer": "ipython3",
   "version": "3.9.15"
  },
  "orig_nbformat": 4
 },
 "nbformat": 4,
 "nbformat_minor": 2
}
