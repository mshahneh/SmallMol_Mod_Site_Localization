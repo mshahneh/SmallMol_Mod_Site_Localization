{
 "cells": [
  {
   "cell_type": "code",
   "execution_count": 3,
   "metadata": {},
   "outputs": [],
   "source": [
    "from urllib.request import urlopen\n",
    "from IPython.display import SVG\n",
    "import matplotlib.pyplot as plt\n",
    "from rdkit import Chem\n",
    "from tqdm import tqdm\n",
    "import pandas as pd\n",
    "import xlsxwriter\n",
    "import argparse\n",
    "import pickle\n",
    "import numpy as np\n",
    "import json\n",
    "import copy\n",
    "\n",
    "import os\n",
    "import sys\n",
    "module_path = os.path.abspath(os.path.join('..'))\n",
    "if module_path not in sys.path:\n",
    "    sys.path.append(module_path)\n",
    "\n",
    "import visualizer as visualizer\n",
    "import utils as utils\n",
    "import handle_network as hn\n",
    "import fragmentation_py as fragmentation_py\n",
    "import library_downloader as library_downloader\n",
    "import SiteLocator as modSite\n",
    "import alignment as alignment\n",
    "from Compound_n import Compound\n",
    "from ModificationSiteLocator import ModificationSiteLocator\n",
    "\n",
    "library =\"BERKELEY-LAB\"\n",
    "if not os.path.exists( os.path.join(\"../data/libraries\", library)):\n",
    "    url = \"https://gnps-external.ucsd.edu/gnpslibrary/\" + library + \".json\"\n",
    "    location = \"../data/libraries/\" + library + \"/\"\n",
    "    library_downloader.download(url, location, 0.5, 0.1)\n",
    "\n",
    "with open(os.path.join(\"../data/libraries\", library, \"data_dict_filtered.pkl\"), \"rb\") as f:\n",
    "    data_dict_filtered = pickle.load(f)"
   ]
  },
  {
   "cell_type": "code",
   "execution_count": 4,
   "metadata": {},
   "outputs": [],
   "source": [
    "matches = pickle.load(open(\"good_matches.pkl\", \"rb\"))"
   ]
  },
  {
   "cell_type": "code",
   "execution_count": 13,
   "metadata": {},
   "outputs": [
    {
     "name": "stdout",
     "output_type": "stream",
     "text": [
      "{'USI1': 'mzspec:GNPS:BERKELEY-LAB:accession:CCMSLIB00010105317', 'USI2': 'mzspec:GNPS:BERKELEY-LAB:accession:CCMSLIB00010117740', 'Smiles1': 'COc1ccc(-c2coc3cc(OC)c(OC)cc3c2=O)cc1', 'Smiles2': 'COc1ccc(-c2coc3cc(OC)c(OC)cc3c2=O)cc1OC', 'score': array([0.92596108])}\n"
     ]
    }
   ],
   "source": [
    "import numpy as np\n",
    "\n",
    "samples = []\n",
    "while (len(samples) < 6):\n",
    "    i = np.random.randint(0, len(matches))\n",
    "    if matches[i][0] < 0.8:\n",
    "        continue\n",
    "    m0, m1 = matches[i][1]\n",
    "    myDict = {}\n",
    "    myDict['USI1'] = hn.generate_usi(m0, library)\n",
    "    myDict['USI2'] = hn.generate_usi(m1, library)\n",
    "    myDict['Smiles1'] = data_dict_filtered[m0][\"Smiles\"]\n",
    "    myDict['Smiles2'] = data_dict_filtered[m1][\"Smiles\"]\n",
    "    myDict['score'] = matches[i][0]\n",
    "    samples.append(myDict)\n",
    "    # print(hn.generate_usi(m0, library), hn.generate_usi(m1, library), data_dict_filtered[m0][\"Smiles\"], data_dict_filtered[m1][\"Smiles\"])\n",
    "\n",
    "\n",
    "\n",
    "# print samples, add new line for each sample\n",
    "print(samples[0])\n"
   ]
  },
  {
   "cell_type": "code",
   "execution_count": 12,
   "metadata": {},
   "outputs": [
    {
     "data": {
      "text/html": [
       "<div>\n",
       "<style scoped>\n",
       "    .dataframe tbody tr th:only-of-type {\n",
       "        vertical-align: middle;\n",
       "    }\n",
       "\n",
       "    .dataframe tbody tr th {\n",
       "        vertical-align: top;\n",
       "    }\n",
       "\n",
       "    .dataframe thead th {\n",
       "        text-align: right;\n",
       "    }\n",
       "</style>\n",
       "<table border=\"1\" class=\"dataframe\">\n",
       "  <thead>\n",
       "    <tr style=\"text-align: right;\">\n",
       "      <th></th>\n",
       "      <th>USI1</th>\n",
       "      <th>Smiles1</th>\n",
       "      <th>USI2</th>\n",
       "      <th>Smiles2</th>\n",
       "    </tr>\n",
       "  </thead>\n",
       "  <tbody>\n",
       "    <tr>\n",
       "      <th>0</th>\n",
       "      <td>mzspec:GNPS:BERKELEY-LAB:accession:CCMSLIB0001...</td>\n",
       "      <td>O=C(O)[C@@H]1CCC(O)=N1</td>\n",
       "      <td>mzspec:GNPS:BERKELEY-LAB:accession:CCMSLIB0001...</td>\n",
       "      <td>CCOC(=O)C1CCC(O)=N1</td>\n",
       "    </tr>\n",
       "    <tr>\n",
       "      <th>1</th>\n",
       "      <td>mzspec:GNPS:BERKELEY-LAB:accession:CCMSLIB0001...</td>\n",
       "      <td>COc1cc(C(=O)O)ccc1O</td>\n",
       "      <td>mzspec:GNPS:BERKELEY-LAB:accession:CCMSLIB0001...</td>\n",
       "      <td>CCOC(=O)c1ccc(O)c(OC)c1</td>\n",
       "    </tr>\n",
       "    <tr>\n",
       "      <th>2</th>\n",
       "      <td>mzspec:GNPS:BERKELEY-LAB:accession:CCMSLIB0001...</td>\n",
       "      <td>O=C(O)c1cc(O)c(O)c(O)c1</td>\n",
       "      <td>mzspec:GNPS:BERKELEY-LAB:accession:CCMSLIB0001...</td>\n",
       "      <td>CCOC(=O)c1cc(O)c(O)c(O)c1</td>\n",
       "    </tr>\n",
       "    <tr>\n",
       "      <th>3</th>\n",
       "      <td>mzspec:GNPS:BERKELEY-LAB:accession:CCMSLIB0001...</td>\n",
       "      <td>COc1cc(C=O)ccc1O</td>\n",
       "      <td>mzspec:GNPS:BERKELEY-LAB:accession:CCMSLIB0001...</td>\n",
       "      <td>COc1cc(C=O)ccc1OC(C)C</td>\n",
       "    </tr>\n",
       "    <tr>\n",
       "      <th>4</th>\n",
       "      <td>mzspec:GNPS:BERKELEY-LAB:accession:CCMSLIB0001...</td>\n",
       "      <td>COc1cc(C=O)ccc1O</td>\n",
       "      <td>mzspec:GNPS:BERKELEY-LAB:accession:CCMSLIB0001...</td>\n",
       "      <td>CCCOc1ccc(C=O)cc1OC</td>\n",
       "    </tr>\n",
       "  </tbody>\n",
       "</table>\n",
       "</div>"
      ],
      "text/plain": [
       "                                                USI1                  Smiles1  \\\n",
       "0  mzspec:GNPS:BERKELEY-LAB:accession:CCMSLIB0001...   O=C(O)[C@@H]1CCC(O)=N1   \n",
       "1  mzspec:GNPS:BERKELEY-LAB:accession:CCMSLIB0001...      COc1cc(C(=O)O)ccc1O   \n",
       "2  mzspec:GNPS:BERKELEY-LAB:accession:CCMSLIB0001...  O=C(O)c1cc(O)c(O)c(O)c1   \n",
       "3  mzspec:GNPS:BERKELEY-LAB:accession:CCMSLIB0001...         COc1cc(C=O)ccc1O   \n",
       "4  mzspec:GNPS:BERKELEY-LAB:accession:CCMSLIB0001...         COc1cc(C=O)ccc1O   \n",
       "\n",
       "                                                USI2  \\\n",
       "0  mzspec:GNPS:BERKELEY-LAB:accession:CCMSLIB0001...   \n",
       "1  mzspec:GNPS:BERKELEY-LAB:accession:CCMSLIB0001...   \n",
       "2  mzspec:GNPS:BERKELEY-LAB:accession:CCMSLIB0001...   \n",
       "3  mzspec:GNPS:BERKELEY-LAB:accession:CCMSLIB0001...   \n",
       "4  mzspec:GNPS:BERKELEY-LAB:accession:CCMSLIB0001...   \n",
       "\n",
       "                     Smiles2  \n",
       "0        CCOC(=O)C1CCC(O)=N1  \n",
       "1    CCOC(=O)c1ccc(O)c(OC)c1  \n",
       "2  CCOC(=O)c1cc(O)c(O)c(O)c1  \n",
       "3      COc1cc(C=O)ccc1OC(C)C  \n",
       "4        CCCOc1ccc(C=O)cc1OC  "
      ]
     },
     "execution_count": 12,
     "metadata": {},
     "output_type": "execute_result"
    }
   ],
   "source": [
    "myData = [{'USI1': 'mzspec:GNPS:BERKELEY-LAB:accession:CCMSLIB00010126753', 'USI2': 'mzspec:GNPS:BERKELEY-LAB:accession:CCMSLIB00010118619', 'Smiles1': 'O=C(O)[C@@H]1CCC(O)=N1', 'Smiles2': 'CCOC(=O)C1CCC(O)=N1'}, {'USI1': 'mzspec:GNPS:BERKELEY-LAB:accession:CCMSLIB00010125637', 'USI2': 'mzspec:GNPS:BERKELEY-LAB:accession:CCMSLIB00010106370', 'Smiles1': 'COc1cc(C(=O)O)ccc1O', 'Smiles2': 'CCOC(=O)c1ccc(O)c(OC)c1'}, {'USI1': 'mzspec:GNPS:BERKELEY-LAB:accession:CCMSLIB00010125095', 'USI2': 'mzspec:GNPS:BERKELEY-LAB:accession:CCMSLIB00010120285', 'Smiles1': 'O=C(O)c1cc(O)c(O)c(O)c1', 'Smiles2': 'CCOC(=O)c1cc(O)c(O)c(O)c1'}, {'USI1': 'mzspec:GNPS:BERKELEY-LAB:accession:CCMSLIB00010122676', 'USI2': 'mzspec:GNPS:BERKELEY-LAB:accession:CCMSLIB00010108770', 'Smiles1': 'COc1cc(C=O)ccc1O', 'Smiles2': 'COc1cc(C=O)ccc1OC(C)C'}, {'USI1': 'mzspec:GNPS:BERKELEY-LAB:accession:CCMSLIB00010122675', 'USI2': 'mzspec:GNPS:BERKELEY-LAB:accession:CCMSLIB00010104696', 'Smiles1': 'COc1cc(C=O)ccc1O', 'Smiles2': 'CCCOc1ccc(C=O)cc1OC'}]\n",
    "columns=[\"USI1\", \"Smiles1\", \"USI2\", \"Smiles2\"]\n",
    "df = pd.DataFrame(myData, columns=[\"USI1\", \"Smiles1\", \"USI2\", \"Smiles2\"])\n",
    "df"
   ]
  },
  {
   "cell_type": "code",
   "execution_count": 6,
   "metadata": {},
   "outputs": [
    {
     "name": "stdout",
     "output_type": "stream",
     "text": [
      "mzspec:GNPS:BERKELEY-LAB:accession:CCMSLIB00010126753 mzspec:GNPS:BERKELEY-LAB:accession:CCMSLIB00010118619 O=C(O)[C@@H]1CCC(O)=N1 CCOC(=O)C1CCC(O)=N1\n"
     ]
    }
   ],
   "source": [
    "m0 = matches[0][1][0]\n",
    "m1 = matches[0][1][1]\n",
    "print(hn.generate_usi(m0, library), hn.generate_usi(m1, library), data_dict_filtered[m0][\"Smiles\"], data_dict_filtered[m1][\"Smiles\"])"
   ]
  },
  {
   "cell_type": "code",
   "execution_count": null,
   "metadata": {},
   "outputs": [],
   "source": []
  }
 ],
 "metadata": {
  "kernelspec": {
   "display_name": "Python 3",
   "language": "python",
   "name": "python3"
  },
  "language_info": {
   "codemirror_mode": {
    "name": "ipython",
    "version": 3
   },
   "file_extension": ".py",
   "mimetype": "text/x-python",
   "name": "python",
   "nbconvert_exporter": "python",
   "pygments_lexer": "ipython3",
   "version": "3.9.15"
  },
  "orig_nbformat": 4
 },
 "nbformat": 4,
 "nbformat_minor": 2
}
