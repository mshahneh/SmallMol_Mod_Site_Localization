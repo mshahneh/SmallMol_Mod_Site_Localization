{
 "cells": [
  {
   "cell_type": "code",
   "execution_count": 1,
   "metadata": {},
   "outputs": [],
   "source": [
    "from urllib.request import urlopen\n",
    "from IPython.display import SVG\n",
    "import matplotlib.pyplot as plt\n",
    "from rdkit import Chem\n",
    "from tqdm import tqdm\n",
    "import pandas as pd\n",
    "import xlsxwriter\n",
    "import argparse\n",
    "import pickle\n",
    "import numpy as np\n",
    "import json\n",
    "import copy\n",
    "\n",
    "import os\n",
    "import sys\n",
    "module_path = os.path.abspath(os.path.join('..'))\n",
    "if module_path not in sys.path:\n",
    "    sys.path.append(module_path)\n",
    "\n",
    "import visualizer as visualizer\n",
    "import utils as utils\n",
    "import handle_network as hn\n",
    "import fragmentation_py as fragmentation_py\n",
    "import library_downloader as library_downloader\n",
    "import SiteLocator as modSite\n",
    "import alignment as alignment\n",
    "from Compound_n import Compound\n",
    "from ModificationSiteLocator import ModificationSiteLocator\n",
    "\n",
    "library =\"BERKELEY-LAB\"\n",
    "if not os.path.exists( os.path.join(\"../data/libraries\", library)):\n",
    "    url = \"https://gnps-external.ucsd.edu/gnpslibrary/\" + library + \".json\"\n",
    "    location = \"../data/libraries/\" + library + \"/\"\n",
    "    library_downloader.download(url, location, 0.5, 0.1)\n",
    "\n",
    "with open(os.path.join(\"../data/libraries\", library, \"data_dict_filtered.pkl\"), \"rb\") as f:\n",
    "    data_dict_filtered = pickle.load(f)"
   ]
  },
  {
   "cell_type": "code",
   "execution_count": 3,
   "metadata": {},
   "outputs": [],
   "source": [
    "matches = pickle.load(open(\"good_matches.pkl\", \"rb\"))"
   ]
  },
  {
   "cell_type": "code",
   "execution_count": 6,
   "metadata": {},
   "outputs": [
    {
     "name": "stdout",
     "output_type": "stream",
     "text": [
      "mzspec:GNPS:BERKELEY-LAB:accession:CCMSLIB00010126753 mzspec:GNPS:BERKELEY-LAB:accession:CCMSLIB00010118619 O=C(O)[C@@H]1CCC(O)=N1 CCOC(=O)C1CCC(O)=N1\n"
     ]
    }
   ],
   "source": [
    "m0 = matches[0][1][0]\n",
    "m1 = matches[0][1][1]\n",
    "print(hn.generate_usi(m0, library), hn.generate_usi(m1, library), data_dict_filtered[m0][\"Smiles\"], data_dict_filtered[m1][\"Smiles\"])"
   ]
  },
  {
   "cell_type": "code",
   "execution_count": null,
   "metadata": {},
   "outputs": [],
   "source": []
  }
 ],
 "metadata": {
  "kernelspec": {
   "display_name": "Python 3",
   "language": "python",
   "name": "python3"
  },
  "language_info": {
   "codemirror_mode": {
    "name": "ipython",
    "version": 3
   },
   "file_extension": ".py",
   "mimetype": "text/x-python",
   "name": "python",
   "nbconvert_exporter": "python",
   "pygments_lexer": "ipython3",
   "version": "3.9.15"
  },
  "orig_nbformat": 4
 },
 "nbformat": 4,
 "nbformat_minor": 2
}
